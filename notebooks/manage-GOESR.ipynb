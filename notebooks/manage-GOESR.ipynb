{
 "cells": [
  {
   "cell_type": "code",
   "execution_count": null,
   "metadata": {},
   "outputs": [],
   "source": [
    "import os\n",
    "import re\n",
    "import sys\n",
    "import json\n",
    "import glob\n",
    "import git\n",
    "import xarray\n",
    "import datetime\n",
    "import rasterio\n",
    "import tifffile\n",
    "import subprocess\n",
    "import numpy as np\n",
    "\n",
    "from matplotlib import pyplot as plt\n",
    "\n",
    "sys.path.insert(0, '../')\n",
    "from managers import utils, managers\n",
    "\n",
    "%load_ext autoreload\n",
    "%autoreload 2"
   ]
  },
  {
   "cell_type": "code",
   "execution_count": null,
   "metadata": {},
   "outputs": [],
   "source": [
    "# band 3 (veggie) from daytime 10/5 (DOY 278 at UTC 20:00)\n",
    "'/home/keith/Downloads/OR_ABI-L1b-RadC-M6C03_G17_s20192782201196_e20192782203569_c20192782204022.nc'"
   ]
  },
  {
   "cell_type": "code",
   "execution_count": null,
   "metadata": {},
   "outputs": [],
   "source": [
    "# 2019-08-31 at 7AM\n",
    "# (note that band 2 looks cool using plt.imshow(utils.autoscale(im, minn=155, maxx=333, gamma=.7, dtype='uint8'), cmap='gray'))\n",
    "filepaths = glob.glob('/home/keith/raster-data/GOES-R/2019-08-31_07-01-AM-PST/*.nc')"
   ]
  },
  {
   "cell_type": "code",
   "execution_count": null,
   "metadata": {},
   "outputs": [],
   "source": [
    "# 2019-10-03 at 5PM\n",
    "filepaths = glob.glob('/home/keith/raster-data/GOES-R/2019-10-03_05-01-PM-PST/*.NC')"
   ]
  },
  {
   "cell_type": "code",
   "execution_count": null,
   "metadata": {},
   "outputs": [],
   "source": [
    "# 2019-10-05 at 6PM\n",
    "filepaths = glob.glob('/home/keith/raster-data/GOES-R/2019-10-05_06-01-PM-PST/*.nc')"
   ]
  },
  {
   "cell_type": "markdown",
   "metadata": {},
   "source": [
    "### Loading the data using xarray (fast but projection-less)"
   ]
  },
  {
   "cell_type": "code",
   "execution_count": null,
   "metadata": {},
   "outputs": [],
   "source": [
    "d = xarray.open_dataset(filepaths[1])\n",
    "im = d['Rad'].data\n",
    "im.shape"
   ]
  },
  {
   "cell_type": "code",
   "execution_count": null,
   "metadata": {},
   "outputs": [],
   "source": [
    "list(d.keys())"
   ]
  },
  {
   "cell_type": "code",
   "execution_count": null,
   "metadata": {},
   "outputs": [],
   "source": [
    "d['goes_imager_projection']"
   ]
  },
  {
   "cell_type": "markdown",
   "metadata": {},
   "source": [
    "### Creating a GeoTIFF using rio warp\n",
    "\n",
    "For some reason, this is very slow (1-2min) for band 2."
   ]
  },
  {
   "cell_type": "code",
   "execution_count": null,
   "metadata": {},
   "outputs": [],
   "source": [
    "# create TIFFs from the netCDF files\n",
    "# (note that this is pretty slow for band 2, even if we specify a small ROI)\n",
    "for filepath in filepaths:\n",
    "    utils.run_command([\n",
    "        'rio', 'warp',\n",
    "        'NETCDF:%s:Rad' % filepath,\n",
    "        '%s.tif' % filepath])"
   ]
  },
  {
   "cell_type": "code",
   "execution_count": null,
   "metadata": {},
   "outputs": [],
   "source": [
    "im = tifffile.imread('%s.tif' % filepaths[0])\n",
    "im.dtype, im.shape, im.min(), im.max()"
   ]
  },
  {
   "cell_type": "code",
   "execution_count": null,
   "metadata": {},
   "outputs": [],
   "source": [
    "plt.figure(figsize=(24,12))\n",
    "plt.imshow(utils.autoscale(im[::-2, ::2], minn=0, maxx=100), cmap='gray')"
   ]
  },
  {
   "cell_type": "code",
   "execution_count": null,
   "metadata": {},
   "outputs": [],
   "source": [
    "# bounds for central Sierra \n",
    "latlon_bounds = [-119.8, 37.2, -117.8, 38.2]\n",
    "\n",
    "# bounds for west coast to SLC\n",
    "latlon_bounds = [-125, 33, -105, 45]\n",
    "\n",
    "south_sierra = [-121, 36, -116, 39]"
   ]
  },
  {
   "cell_type": "code",
   "execution_count": null,
   "metadata": {},
   "outputs": [],
   "source": [
    "p = managers.GOESProject(\n",
    "    project_root='/home/keith/raster-data/GOES-R/2019-08-31_07-01-AM-PST-PROJECT-01/',\n",
    "    dataset_paths='/home/keith/raster-data/GOES-R/2019-08-31_07-01-AM-PST/',\n",
    "    reset=True)"
   ]
  },
  {
   "cell_type": "code",
   "execution_count": null,
   "metadata": {},
   "outputs": [],
   "source": [
    "p.raw_datasets[0].extant_bands"
   ]
  },
  {
   "cell_type": "code",
   "execution_count": null,
   "metadata": {},
   "outputs": [],
   "source": [
    "p.warp(p.raw_datasets, res=500, bounds=, crs='EPSG:3857')"
   ]
  },
  {
   "cell_type": "code",
   "execution_count": null,
   "metadata": {},
   "outputs": [],
   "source": [
    "imR = tifffile.imread(p.get_operation(-2).destination.filepath(2))\n",
    "imG = tifffile.imread(p.get_operation(-2).destination.filepath(3))\n",
    "imB = tifffile.imread(p.get_operation(-2).destination.filepath(1))\n",
    "\n",
    "imR.dtype, imR.shape, imR.min(), imR.max()"
   ]
  },
  {
   "cell_type": "code",
   "execution_count": null,
   "metadata": {},
   "outputs": [],
   "source": [
    "imG_adj = .45*imR + .1*imG + .45*imB\n",
    "imG_blend = .7*imG_adj + .3*imG"
   ]
  },
  {
   "cell_type": "code",
   "execution_count": null,
   "metadata": {},
   "outputs": [],
   "source": [
    "# 99th percentile for south sierra ROI for 2019-10-05_06-01-PM-PST\n",
    "{'r': array([159., 289.]),\n",
    " 'g': array([35., 99.]),\n",
    " 'g_adj': array([ 98.65, 167.5 ]),\n",
    " 'g_blend': array([ 80.525  , 143.58899]),\n",
    " 'b': array([50., 69.])}"
   ]
  },
  {
   "cell_type": "code",
   "execution_count": null,
   "metadata": {},
   "outputs": [],
   "source": [
    "{\n",
    "'r': np.percentile(imR, (.1, 99.9)),\n",
    "'g': np.percentile(imG, (.1, 99.9)),\n",
    "'g_adj': np.percentile(imG_adj, (.1, 99.9)),\n",
    "'g_blend': np.percentile(imG_blend, (.1, 99.9)),\n",
    "'b': np.percentile(imB, (.1, 99.9)),\n",
    "}"
   ]
  },
  {
   "cell_type": "code",
   "execution_count": null,
   "metadata": {},
   "outputs": [],
   "source": [
    "imRGB = np.concatenate((\n",
    "        utils.autoscale(imR, minn=160, maxx=290, gamma=.7, dtype='uint8')[:, :, None], \n",
    "        utils.autoscale(imG_adj, minn=98, maxx=167, gamma=.7, dtype='uint8')[:, :, None], \n",
    "        utils.autoscale(imB, minn=50, maxx=70, gamma=.9, dtype='uint8')[:, :, None],\n",
    "    ), axis=2)"
   ]
  },
  {
   "cell_type": "code",
   "execution_count": null,
   "metadata": {},
   "outputs": [],
   "source": [
    "plt.figure(figsize=(16, 16))\n",
    "plt.imshow(imRGB)"
   ]
  },
  {
   "cell_type": "code",
   "execution_count": null,
   "metadata": {},
   "outputs": [],
   "source": [
    "plt.figure(figsize=(16, 16))\n",
    "plt.imshow(utils.autoscale(im, minn=155, maxx=333, gamma=.7, dtype='uint8'), cmap='gray')"
   ]
  },
  {
   "cell_type": "code",
   "execution_count": null,
   "metadata": {},
   "outputs": [],
   "source": [
    "tifffile.imwrite('tmp_R-Gadj-B.tif', imRGB)"
   ]
  },
  {
   "cell_type": "code",
   "execution_count": null,
   "metadata": {},
   "outputs": [],
   "source": []
  }
 ],
 "metadata": {
  "kernelspec": {
   "display_name": "rasterenv",
   "language": "python",
   "name": "rasterenv"
  },
  "language_info": {
   "codemirror_mode": {
    "name": "ipython",
    "version": 3
   },
   "file_extension": ".py",
   "mimetype": "text/x-python",
   "name": "python",
   "nbconvert_exporter": "python",
   "pygments_lexer": "ipython3",
   "version": "3.7.3"
  }
 },
 "nbformat": 4,
 "nbformat_minor": 2
}
