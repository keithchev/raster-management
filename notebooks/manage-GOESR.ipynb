{
 "cells": [
  {
   "cell_type": "code",
   "execution_count": null,
   "metadata": {},
   "outputs": [],
   "source": [
    "import os\n",
    "import re\n",
    "import sys\n",
    "import s3fs\n",
    "import json\n",
    "import glob\n",
    "import git\n",
    "import xarray\n",
    "import astral\n",
    "import rioxarray\n",
    "import datetime\n",
    "import rasterio\n",
    "import tifffile\n",
    "import subprocess\n",
    "import numpy as np\n",
    "import pandas as pd\n",
    "\n",
    "import pyproj\n",
    "from pyproj import Proj\n",
    "from matplotlib import pyplot as plt\n",
    "\n",
    "sys.path.insert(0, '../')\n",
    "from managers import utils, managers\n",
    "\n",
    "%load_ext autoreload\n",
    "%autoreload 2"
   ]
  },
  {
   "cell_type": "code",
   "execution_count": null,
   "metadata": {},
   "outputs": [],
   "source": [
    "a = astral.Astral()\n",
    "a.solar_depression = 'civil'\n",
    "city = a['San Francisco']\n",
    "sun = city.sun(date=datetime.date(2019, 10, 5), local=True)"
   ]
  },
  {
   "cell_type": "code",
   "execution_count": null,
   "metadata": {},
   "outputs": [],
   "source": [
    "sun.get('sunset').astimezone(datetime.timezone.utc).strftime('%j/%H/')"
   ]
  },
  {
   "cell_type": "code",
   "execution_count": null,
   "metadata": {},
   "outputs": [],
   "source": [
    "(sun.get('sunset') - datetime.timedelta(hours=2)).astimezone(datetime.timezone.utc).strftime('%j/%H/')"
   ]
  },
  {
   "cell_type": "markdown",
   "metadata": {},
   "source": [
    "### Download data\n",
    "\n",
    "https://docs.opendata.aws/noaa-goes16/cics-readme.html"
   ]
  },
  {
   "cell_type": "code",
   "execution_count": null,
   "metadata": {},
   "outputs": [],
   "source": [
    "import s3fs\n",
    "\n",
    "# Use the anonymous credentials to access public data\n",
    "fs = s3fs.S3FileSystem(anon=True)\n",
    "\n",
    "# List contents of GOES-16 bucket.\n",
    "fs.ls('s3://noaa-goes16/')\n",
    "\n",
    "\n",
    "# List specific files of GOES-17 CONUS data (multiband format) on a certain hour\n",
    "filenames = np.array(fs.ls('s3://noaa-goes17/ABI-L1b-RadC/2019/279/01/'))\n",
    "\n",
    "rows = []\n",
    "for filename in filenames:\n",
    "    result = re.findall('ABI-L1b-RadC-M6C0([1-9])_G17_s([0-9]{14})', filename)\n",
    "    if result:\n",
    "        result = result[0]\n",
    "        rows.append({\n",
    "            'filename': filename,\n",
    "            'channel': result[0], \n",
    "            'timestamp': datetime.datetime.strptime(result[1][:-1], '%Y%j%H%M%S')\n",
    "        })\n",
    "\n",
    "pd.DataFrame(data=rows)\n",
    "# fs.get(files[0], files[0].split('/')[-1])"
   ]
  },
  {
   "cell_type": "code",
   "execution_count": null,
   "metadata": {},
   "outputs": [],
   "source": [
    "# band 3 (veggie) from daytime 10/5 (DOY 278 at UTC 20:00)\n",
    "'/home/keith/Downloads/OR_ABI-L1b-RadC-M6C03_G17_s20192782201196_e20192782203569_c20192782204022.nc'"
   ]
  },
  {
   "cell_type": "code",
   "execution_count": null,
   "metadata": {},
   "outputs": [],
   "source": [
    "# 2019-08-31 at 7AM\n",
    "# (note that band 2 looks cool using plt.imshow(utils.autoscale(im, minn=155, maxx=333, gamma=.7, dtype='uint8'), cmap='gray'))\n",
    "filepaths = glob.glob('/home/keith/raster-data/GOES-R/2019-08-31_07-01-AM-PST/*.nc')"
   ]
  },
  {
   "cell_type": "code",
   "execution_count": null,
   "metadata": {},
   "outputs": [],
   "source": [
    "# 2019-10-03 at 5PM\n",
    "filepaths = glob.glob('/home/keith/raster-data/GOES-R/2019-10-03_05-01-PM-PST/*.NC')"
   ]
  },
  {
   "cell_type": "code",
   "execution_count": null,
   "metadata": {},
   "outputs": [],
   "source": [
    "# 2019-10-05 at 6PM\n",
    "filepaths = glob.glob('/home/keith/raster-data/GOES-R/2019-10-05_06-01-PM-PST/*.nc')"
   ]
  },
  {
   "cell_type": "code",
   "execution_count": null,
   "metadata": {},
   "outputs": [],
   "source": [
    "# clear morning and evening in CA (with mesoscale floater over CA): 2019-08-31\n",
    "# clear evening in CA: 2019-10-22\n",
    "# clear evening from seattle to LA: 2019-10-29\n",
    "# clear morning and evening from Seattle-LA to the rockies (though with snow in the rockies/montana): 2019-11-01"
   ]
  },
  {
   "cell_type": "code",
   "execution_count": null,
   "metadata": {},
   "outputs": [],
   "source": [
    "filepaths"
   ]
  },
  {
   "cell_type": "markdown",
   "metadata": {},
   "source": [
    "### Creating a GeoTIFF using rio warp\n",
    "\n",
    "For some reason, this is very slow (1-2min) for band 2."
   ]
  },
  {
   "cell_type": "code",
   "execution_count": null,
   "metadata": {},
   "outputs": [],
   "source": [
    "# create TIFFs from the netCDF files\n",
    "for filepath in filepaths:\n",
    "    utils.run_command([\n",
    "        'rio', 'warp',\n",
    "        'NETCDF:%s:Rad' % filepath,\n",
    "        '%s.tif' % filepath])"
   ]
  },
  {
   "cell_type": "markdown",
   "metadata": {},
   "source": [
    "### Creating geoTIFFs manually using pyproj and rasterio\n",
    "\n",
    "Had to figure out how to create GeoTIFFs from xarray-opened NetCDF files because using GDAL is so slow (which seems to be a known issue). First tried using rioxarray, but this doesn't work, because rioxarray does not transform the bounds from radians (as they appear in the netcdf file) to meters. Instead, constructed the projection and image bounds manually and saved the image as a GeoTIFF using rasterio itself. The trickiest part was mapping the parameters in the goes_imager_projection to the pyproj.Proj arguments, and also figuring out to multiply the x/y coordinates by the satellite height to transform from radians to meters. (I determined that all of this was 'correct' by using the transform and CRS of the GDAL-generated GeoTIFFs as a reference.)\n",
    "\n",
    "Some hints about the projection parameters are here: https://github.com/blaylockbk/pyBKB_v2/blob/master/BB_goes16/mapping_GOES16_data.ipynb"
   ]
  },
  {
   "cell_type": "code",
   "execution_count": null,
   "metadata": {},
   "outputs": [],
   "source": [
    "for filepath in glob.glob('/home/keith/raster-data/GOES-R/test-rioxarray/*.nc'):\n",
    "    nc = xarray.open_dataset(filepath)\n",
    "    print(filepath)\n",
    "    \n",
    "    # construct the projection\n",
    "    proj_sweep = nc.goes_imager_projection.sweep_angle_axis\n",
    "    proj_h = nc.goes_imager_projection.perspective_point_height\n",
    "    proj_lon_0 = nc.goes_imager_projection.longitude_of_projection_origin\n",
    "    proj = Proj(proj='geos', h=proj_h, lon_0=proj_lon_0, sweep=proj_sweep, ellps='GRS80')\n",
    "    \n",
    "    # construct the bounds\n",
    "    height, width = nc.Rad.shape\n",
    "    x_bounds = nc.x_image_bounds.values * proj_h\n",
    "    y_bounds = nc.y_image_bounds.values * proj_h\n",
    "    x_res = (x_bounds.max() - x_bounds.min())/width\n",
    "    y_res = (y_bounds.max() - y_bounds.min())/height\n",
    "    \n",
    "    # construct the transform for rasterio\n",
    "    transform = [x_res, 0, x_bounds.min(), 0, y_res, y_bounds.min()]\n",
    "    \n",
    "    with rasterio.open(\n",
    "        '%s.tif' % filepath, \n",
    "        mode='w', \n",
    "        driver='GTiff', \n",
    "        dtype='int16',\n",
    "        width=width, \n",
    "        height=height,\n",
    "        crs=proj.srs, \n",
    "        transform=transform, \n",
    "        tiled=False,\n",
    "        nodata=1023,\n",
    "        count=1) as dst:\n",
    "        \n",
    "        # note that the array (in nc.Rad) is upside down\n",
    "        dst.write(nc.Rad.values[::-1, :].astype('int16'), 1)"
   ]
  },
  {
   "cell_type": "markdown",
   "metadata": {},
   "source": [
    "### Rread the resulting TIFF to check for non-null values"
   ]
  },
  {
   "cell_type": "code",
   "execution_count": null,
   "metadata": {},
   "outputs": [],
   "source": [
    "im = tifffile.imread('%s.tif' % filepaths[0])\n",
    "im.dtype, im.shape, im.min(), im.max()"
   ]
  },
  {
   "cell_type": "code",
   "execution_count": null,
   "metadata": {},
   "outputs": [],
   "source": [
    "plt.figure(figsize=(24,12))\n",
    "plt.imshow(utils.autoscale(im[::-2, ::2], minn=0, maxx=100), cmap='gray')"
   ]
  },
  {
   "cell_type": "markdown",
   "metadata": {},
   "source": [
    "### Create a project manager"
   ]
  },
  {
   "cell_type": "code",
   "execution_count": null,
   "metadata": {},
   "outputs": [],
   "source": [
    "# bounds for central Sierra \n",
    "latlon_bounds = [-119.8, 37.2, -117.8, 38.2]\n",
    "\n",
    "# bounds for west coast to SLC\n",
    "latlon_bounds = [-125, 33, -105, 45]\n",
    "\n",
    "south_sierra = [-121, 36, -116, 39]"
   ]
  },
  {
   "cell_type": "code",
   "execution_count": null,
   "metadata": {},
   "outputs": [],
   "source": [
    "p = managers.GOESProject(\n",
    "    project_root='/home/keith/raster-data/GOES-R/test-rioxarray-project',\n",
    "    dataset_paths='/home/keith/raster-data/GOES-R/test-rioxarray/',\n",
    "    reset=True)"
   ]
  },
  {
   "cell_type": "code",
   "execution_count": null,
   "metadata": {},
   "outputs": [],
   "source": [
    "p.raw_datasets[0].extant_bands"
   ]
  },
  {
   "cell_type": "code",
   "execution_count": null,
   "metadata": {},
   "outputs": [],
   "source": [
    "p.warp(p.raw_datasets, res=1000, bounds=latlon_bounds, crs='EPSG:3857')"
   ]
  },
  {
   "cell_type": "code",
   "execution_count": null,
   "metadata": {},
   "outputs": [],
   "source": [
    "imR = tifffile.imread(p.get_operation(-1).destination.filepath(2))\n",
    "imG = tifffile.imread(p.get_operation(-1).destination.filepath(3))\n",
    "imB = tifffile.imread(p.get_operation(-1).destination.filepath(1))\n",
    "\n",
    "imR.dtype, imR.shape, imR.min(), imR.max()"
   ]
  },
  {
   "cell_type": "code",
   "execution_count": null,
   "metadata": {},
   "outputs": [],
   "source": [
    "imG_adj = .45*imR + .1*imG + .45*imB\n",
    "imG_blend = .7*imG_adj + .3*imG"
   ]
  },
  {
   "cell_type": "code",
   "execution_count": null,
   "metadata": {},
   "outputs": [],
   "source": [
    "# 99th percentile for south sierra ROI for 2019-10-05_06-01-PM-PST\n",
    "{'r': array([159., 289.]),\n",
    " 'g': array([35., 99.]),\n",
    " 'g_adj': array([ 98.65, 167.5 ]),\n",
    " 'g_blend': array([ 80.525  , 143.58899]),\n",
    " 'b': array([50., 69.])}"
   ]
  },
  {
   "cell_type": "code",
   "execution_count": null,
   "metadata": {},
   "outputs": [],
   "source": [
    "{\n",
    "'r': np.percentile(imR, (.1, 99.9)),\n",
    "'g': np.percentile(imG, (.1, 99.9)),\n",
    "'g_adj': np.percentile(imG_adj, (.1, 99.9)),\n",
    "'g_blend': np.percentile(imG_blend, (.1, 99.9)),\n",
    "'b': np.percentile(imB, (.1, 99.9)),\n",
    "}"
   ]
  },
  {
   "cell_type": "code",
   "execution_count": null,
   "metadata": {},
   "outputs": [],
   "source": [
    "imRGB = np.concatenate((\n",
    "        utils.autoscale(imR, minn=159, maxx=289, gamma=.7, dtype='uint8')[:, :, None], \n",
    "        utils.autoscale(imG_adj, minn=102, maxx=169, gamma=.7, dtype='uint8')[:, :, None], \n",
    "        utils.autoscale(imB, minn=55, maxx=77, gamma=.9, dtype='uint8')[:, :, None],\n",
    "    ), axis=2)"
   ]
  },
  {
   "cell_type": "code",
   "execution_count": null,
   "metadata": {},
   "outputs": [],
   "source": [
    "imRGB = np.concatenate((\n",
    "        utils.autoscale(imR, minn=163, maxx=283, gamma=.7, dtype='uint8')[:, :, None], \n",
    "        utils.autoscale(imG_adj, minn=102, maxx=169, gamma=.7, dtype='uint8')[:, :, None], \n",
    "        utils.autoscale(imB, minn=55, maxx=77, gamma=.9, dtype='uint8')[:, :, None],\n",
    "    ), axis=2)"
   ]
  },
  {
   "cell_type": "code",
   "execution_count": null,
   "metadata": {},
   "outputs": [],
   "source": [
    "imRGB = np.concatenate((\n",
    "        utils.autoscale(imR, percentile=99, gamma=.7, dtype='uint8')[:, :, None], \n",
    "        utils.autoscale(imG_adj, percentile=99, gamma=.7, dtype='uint8')[:, :, None], \n",
    "        utils.autoscale(imB, percentile=99, gamma=.9, dtype='uint8')[:, :, None],\n",
    "    ), axis=2)"
   ]
  },
  {
   "cell_type": "code",
   "execution_count": null,
   "metadata": {},
   "outputs": [],
   "source": [
    "plt.figure(figsize=(16, 16))\n",
    "plt.imshow(imRGB)"
   ]
  },
  {
   "cell_type": "code",
   "execution_count": null,
   "metadata": {},
   "outputs": [],
   "source": [
    "plt.figure(figsize=(16, 16))\n",
    "plt.imshow(utils.autoscale(im, minn=155, maxx=333, gamma=.7, dtype='uint8'), cmap='gray')"
   ]
  },
  {
   "cell_type": "code",
   "execution_count": null,
   "metadata": {},
   "outputs": [],
   "source": [
    "p.project_root"
   ]
  },
  {
   "cell_type": "code",
   "execution_count": null,
   "metadata": {},
   "outputs": [],
   "source": [
    "tifffile.imwrite(os.path.join(p.project_root, 'tmp_R-Gadj-B.tif'), imRGB)"
   ]
  },
  {
   "cell_type": "code",
   "execution_count": null,
   "metadata": {},
   "outputs": [],
   "source": []
  }
 ],
 "metadata": {
  "kernelspec": {
   "display_name": "rasterenv",
   "language": "python",
   "name": "rasterenv"
  },
  "language_info": {
   "codemirror_mode": {
    "name": "ipython",
    "version": 3
   },
   "file_extension": ".py",
   "mimetype": "text/x-python",
   "name": "python",
   "nbconvert_exporter": "python",
   "pygments_lexer": "ipython3",
   "version": "3.7.3"
  }
 },
 "nbformat": 4,
 "nbformat_minor": 2
}
