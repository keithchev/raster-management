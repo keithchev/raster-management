{
 "cells": [
  {
   "cell_type": "markdown",
   "metadata": {},
   "source": [
    "### Operations\n",
    "\n",
    "- General\n",
    "    - crop/merge (in one command)\n",
    "    - warp\n",
    "    - rasterize\n",
    "\n",
    "\n",
    "- DEMs\n",
    "    - color relief\n",
    "    - hill shading\n",
    "    - texture shading\n",
    "    - various blends of color relief and shaded relief\n",
    "\n",
    "\n",
    "- Landsat\n",
    "    - stacking bands\n",
    "    - autogain/white-balance\n",
    "    - pansharpening\n",
    "\n",
    "\n",
    "__Raw dataset types__\n",
    "- A set of DEM tiles (NED13 tiles, elev48i100, etc)\n",
    "- A set of Landsat scenes\n",
    "- a shapefile\n",
    "\n",
    "\n",
    "__Basal derived dataset types__\n",
    "- a cropped and/or merged DEM\n",
    "- a set of cropped and/or merged Landsat bands\n",
    "- a rasterized shapefile\n",
    "\n",
    "\n",
    "A basal derived dataset is necessarily the result of a single crop/merge of a raw dataset. The parameters of this single operation, combined with a raw dataset, define the derived dataset.\n",
    "\n",
    "Not yet clear how to fit rasterizing shapefiles into this schema. "
   ]
  },
  {
   "cell_type": "markdown",
   "metadata": {},
   "source": [
    "### Landsat workflow\n",
    "1. Crop and/or merge each band\n",
    "2. Stack three of the merged bands\n",
    "3. autogain/pansharpen/etc the resulting RGB image"
   ]
  },
  {
   "cell_type": "raw",
   "metadata": {},
   "source": [
    "RasterProject\n",
    "\n",
    "  LandsatProject operations\n",
    "    - stack (bands -> RGB)\n",
    "    - blend (create BW or RGB image from a linear combination of bands) (bands -> RGB or bands -> band)\n",
    "    - autogain (bands -> bands or RGB -> RGB)\n",
    "    - pansharpen (RGB + B8 -> RGB)\n",
    "\n",
    "  DEMProject operations\n",
    "    - hillshade\n",
    "    - color relief\n",
    "    - texture shade\n",
    "    \n",
    "Shared project methods\n",
    "    - initialize (merge)\n",
    "    - warp\n",
    "    - crop\n",
    "    - executing/replaying user-defined workflows\n",
    "    - searching for operations and showing children/descendents\n",
    "    \n",
    "    \n",
    "complex idea: generate BW image from landsat (e.g., density of vegetation or snow) and blend with a single-color color-relief to illustrate the elevation-dependence of e.g., vegetation or snow. "
   ]
  },
  {
   "cell_type": "raw",
   "metadata": {},
   "source": [
    "TODO\n",
    "\n",
    "- for landsat projects, implement blend - BW or RGB image from a linear combination of bands\n",
    "\n",
    "- cachethe list of operations and automatically replay them when initializing the dataset to prevent creating new versions of the cached datasets (note: this makes the *order* of the operations list critical\n",
    "\n",
    "- optionally, verify that the cached datasets are consistent with the operations' kwargs (only possible for crop and warp, not for stack or autogain)\n",
    "\n",
    "- initialize a new dataset and execute a list of user-defined operations (copied from a lower-resolution test dataset, for example)\n",
    "\n",
    "- fix bug: for landsat datasets, the resolution of B8 should be res/2, not res\n",
    "\n",
    "- optional: add setter/getter for `Dataset.exists`, and validate dataset when `exists` is changed from False to True. "
   ]
  },
  {
   "cell_type": "code",
   "execution_count": null,
   "metadata": {},
   "outputs": [],
   "source": [
    "import os\n",
    "import sys\n",
    "import json\n",
    "import glob\n",
    "import datetime\n",
    "import hashlib\n",
    "import rasterio\n",
    "import numpy as np\n",
    "import pandas as pd\n",
    "\n",
    "from matplotlib import pyplot as plt\n",
    "\n",
    "sys.path.insert(0, '../')\n",
    "from managers import managers\n",
    "\n",
    "%load_ext autoreload\n",
    "%autoreload 2"
   ]
  },
  {
   "cell_type": "code",
   "execution_count": null,
   "metadata": {},
   "outputs": [],
   "source": [
    "L5_scene = '/home/keith/landsat-data/Landsat_1-5/LM01_L1TP_045034_19720916_20180429_01_T2/'\n",
    "L8_scene = '/home/keith/landsat-data/LC08_L1TP_042034_20180907_20180912_01_T1//'"
   ]
  },
  {
   "cell_type": "code",
   "execution_count": null,
   "metadata": {},
   "outputs": [],
   "source": [
    "proj = managers.DEMProject(\n",
    "    project_root='../projects/test-dem', \n",
    "    raw_datasets='../test/datasets/dem/n38w120/n38w120_100m.tif',\n",
    "    reset=False)\n",
    "\n",
    "proj.hillshade(proj.derived_dataset)"
   ]
  },
  {
   "cell_type": "code",
   "execution_count": null,
   "metadata": {},
   "outputs": [],
   "source": [
    "proj.props"
   ]
  },
  {
   "cell_type": "code",
   "execution_count": null,
   "metadata": {},
   "outputs": [],
   "source": [
    "max((0,1))"
   ]
  },
  {
   "cell_type": "code",
   "execution_count": null,
   "metadata": {},
   "outputs": [],
   "source": [
    "# test 'raw' landsat scenes\n",
    "scenes = [\n",
    "    '../test/datasets/landsat/LC08_L1TP_041034_20180916_20180928_01_T1',\n",
    "    '../test/datasets/landsat/LC08_L1TP_042034_20180907_20180912_01_T1',]"
   ]
  },
  {
   "cell_type": "code",
   "execution_count": null,
   "metadata": {},
   "outputs": [],
   "source": [
    "# real raw landsat scenes\n",
    "scenes = [\n",
    "    '/home/keith/landsat-data//LC08_L1TP_041034_20180916_20180928_01_T1',\n",
    "    '/home/keith/landsat-data//LC08_L1TP_042034_20180907_20180912_01_T1',]"
   ]
  },
  {
   "cell_type": "code",
   "execution_count": null,
   "metadata": {},
   "outputs": [],
   "source": [
    "# bounds from 'merging-landsat.ipynb' for central sierra\n",
    "bounds = managers.utils.shell(\n",
    "    'echo \"[-119.8, 37.2, -117.8, 38.2]\" | %s transform - --dst-crs %s --precision 2' % \\\n",
    "     (gm.rio, gm.raw_datasets[0].bandpath(1)))\n",
    "\n",
    "bounds = json.loads(bounds)"
   ]
  },
  {
   "cell_type": "code",
   "execution_count": null,
   "metadata": {},
   "outputs": [],
   "source": [
    "# hard-coded bounds from above\n",
    "bounds = [251494.21, 4120732.28, 429952.78, 4228308.24]"
   ]
  },
  {
   "cell_type": "code",
   "execution_count": null,
   "metadata": {},
   "outputs": [],
   "source": [
    "# load test datasets with resetting\n",
    "proj = managers.LandsatProject(\n",
    "    project_root='../projects/test-landsat',\n",
    "    raw_datasets=scenes,\n",
    "    res=400,\n",
    "    bounds=bounds,\n",
    "    reset=True)"
   ]
  },
  {
   "cell_type": "code",
   "execution_count": null,
   "metadata": {},
   "outputs": [],
   "source": [
    "# load without resetting\n",
    "proj = managers.LandsatProject(\n",
    "    project_root='../projects/test-landsat',\n",
    "    reset=False)"
   ]
  },
  {
   "cell_type": "code",
   "execution_count": null,
   "metadata": {},
   "outputs": [],
   "source": [
    "# load real raw datasets\n",
    "proj = managers.LandsatProject(\n",
    "    project_root='/home/keith/landsat-data/projects/mono-lake/',\n",
    "    raw_datasets=scenes,\n",
    "    bounds=bounds,\n",
    "    reset=False)"
   ]
  },
  {
   "cell_type": "code",
   "execution_count": null,
   "metadata": {},
   "outputs": [],
   "source": [
    "proj.stack(proj.derived_dataset, bands=[7,5,2])"
   ]
  },
  {
   "cell_type": "code",
   "execution_count": null,
   "metadata": {},
   "outputs": [],
   "source": [
    "# future features\n",
    "operations = proj.find_operations(method='stack', bands=[4,3,2])\n",
    "\n",
    "proj.show_descendents(operation)\n",
    "proj.show_ancestors(operation)\n",
    "\n",
    "im = proj.open_dataset(operation='last')\n",
    "im = proj.open_dataset(operation=operations[ind])"
   ]
  },
  {
   "cell_type": "code",
   "execution_count": null,
   "metadata": {},
   "outputs": [],
   "source": [
    "proj.autogain(source='last', percentile=99)\n",
    "proj.autogain(source='root', percentile=99)\n",
    "proj.autogain(source=operations[0])"
   ]
  },
  {
   "cell_type": "code",
   "execution_count": null,
   "metadata": {},
   "outputs": [],
   "source": [
    "source = proj.props['operations'][-1]['output']\n",
    "output = source.replace('.TIF', '_AUTOGAIN.TIF')"
   ]
  },
  {
   "cell_type": "code",
   "execution_count": null,
   "metadata": {},
   "outputs": [],
   "source": [
    "proj.props"
   ]
  },
  {
   "cell_type": "code",
   "execution_count": null,
   "metadata": {},
   "outputs": [],
   "source": [
    "proj.new_dataset('tif', method='stack').path"
   ]
  },
  {
   "cell_type": "code",
   "execution_count": null,
   "metadata": {},
   "outputs": [],
   "source": [
    "each_band = True\n",
    "percentile = 99\n",
    "\n",
    "def _autogain(im, percentile):\n",
    "    \n",
    "    minn, maxx = np.percentile(im[:], [100 - percentile, percentile])\n",
    "    \n",
    "    im -= minn\n",
    "    im[im < 0] = 0\n",
    "    im /= (maxx - minn)\n",
    "    im[im > 1] = 1\n",
    "    return im\n",
    "\n",
    "\n",
    "with rasterio.open(source) as src:\n",
    "    \n",
    "    dst_profile = src.profile\n",
    "    dst_profile['dtype'] = 'uint8'\n",
    "\n",
    "    with rasterio.open(output, 'w', **dst_profile) as dst:\n",
    "\n",
    "        if each_band:\n",
    "            im_dst = np.zeros((len(src.indexes),) + src.shape)\n",
    "            for ind, band in enumerate(src.indexes):\n",
    "                im = src.read(band)\n",
    "                im = im.astype('float64')\n",
    "                im_dst[ind, :, :] = _autogain(im, percentile)\n",
    "        else:\n",
    "            im = src.read()\n",
    "            im = im.astype('float64')\n",
    "            im_dst = _autogain(im, percentile)\n",
    "\n",
    "        im_dst *= 255\n",
    "        im_dst = im_dst.astype('uint8')\n",
    "        dst.write(im_dst)"
   ]
  },
  {
   "cell_type": "code",
   "execution_count": null,
   "metadata": {},
   "outputs": [],
   "source": [
    "plt.imshow(np.stack((im_dst[0, :, :], im_dst[1, :, :], im_dst[2, :, :]), axis=2))"
   ]
  },
  {
   "cell_type": "code",
   "execution_count": null,
   "metadata": {},
   "outputs": [],
   "source": []
  }
 ],
 "metadata": {
  "kernelspec": {
   "display_name": "gdalenv",
   "language": "python",
   "name": "gdalenv"
  },
  "language_info": {
   "codemirror_mode": {
    "name": "ipython",
    "version": 3
   },
   "file_extension": ".py",
   "mimetype": "text/x-python",
   "name": "python",
   "nbconvert_exporter": "python",
   "pygments_lexer": "ipython3",
   "version": "3.6.6"
  }
 },
 "nbformat": 4,
 "nbformat_minor": 2
}
