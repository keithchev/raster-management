{
 "cells": [
  {
   "cell_type": "raw",
   "metadata": {},
   "source": [
    "Raw dataset types\n",
    "    - A set of DEM images (NED13 tiles, elev48i100, etc)\n",
    "    - A set of Landsat scenes\n",
    "    - A rasterized shapefile (maybe)\n",
    "\n",
    "\n",
    "RasterProject\n",
    "\n",
    "  LandsatProject operations\n",
    "    - stack (bands -> RGB)\n",
    "    - blend (BW or RGB from a linear combination of bands) (bands -> RGB or bands -> band)\n",
    "    - autogain (bands -> bands or RGB -> RGB)\n",
    "    - pansharpen (RGB + B8 -> RGB)\n",
    "\n",
    "  DEMProject operations\n",
    "    - hillshade\n",
    "    - color relief\n",
    "    - texture shade\n",
    "    - merging color relief and shading\n",
    "   \n",
    "  Common operations\n",
    "    - initialize (rio merge)\n",
    "    - warp\n",
    "    - crop\n",
    "    - executing/replaying user-defined workflows\n",
    "    - searching for operations and showing children/descendents\n",
    " \n",
    " \n",
    "Generic landsat workflow\n",
    "    1) initialize (crop and/or merge)\n",
    "    2) blend bands to generate an RGB image\n",
    "    3) autogain and/or pansharpen the RGB image\n",
    "\n",
    "\n",
    "Generic DEM workflow\n",
    "    1) initialize (crop and/or merge)\n",
    "    2) maybe reproject/warp\n",
    "    3) generate color relief, hill-shaded relief, and texture-shaded relief\n",
    "    4) blend the shaded images with the color-relief\n",
    "    5) add rasterized rivers or waterbodies \n",
    "\n",
    "\n",
    "Idea that mixes Landsat with DEMs to illustrate the elevation-dependence of e.g., vegetation or snow: generate BW image from landsat (e.g., density of vegetation or presence of snow), and blend with a single-color color relief (itself blended with shaded relief). "
   ]
  },
  {
   "cell_type": "raw",
   "metadata": {},
   "source": [
    "TODO\n",
    "\n",
    "- use setter/getter for Dataset.exists, and check that files exist when it's changed from False to True;\n",
    "  this will allow us to separate operation deserialization from validation\n",
    "\n",
    "- Optionally re-run some or all operations when initializing from an existing project,\n",
    "  in order to either refresh all of the existing files or re-create any missing files (exist_ok=True).\n",
    "  Note that this requires recursively traversing the 'tree' implied by the operations, which are linked\n",
    "  only implicitly by source and destination filenames. Also, it might be easier not to implement the exist_ok\n",
    "  option, since it's then not clear whether to re-create 'orphaned' downstream datasets or instead just update\n",
    "  their operation's source filepaths.\n",
    "\n",
    "- Initialize a new dataset with a list of user-defined operations\n",
    "  (copied from a lower-resolution test dataset, for example).\n",
    "  This would be a lot like re-running all cached operations when initializing from an existing project.\n",
    "    \n",
    "- Verify that the cached datasets are consistent with the operations' kwargs \n",
    "  (only possible for crop and warp, not for stack, blend, or autogain).\n",
    "  (currently, we only check the res and bounds of the root derived dataset are consistent, \n",
    "  and that the source and destination of each operation exist)\n",
    "\n",
    "\n",
    "- For landsat projects, implement blend - BW or RGB image from a linear combination of bands\n"
   ]
  },
  {
   "cell_type": "code",
   "execution_count": null,
   "metadata": {},
   "outputs": [],
   "source": [
    "import os\n",
    "import sys\n",
    "import json\n",
    "import glob\n",
    "import datetime\n",
    "import hashlib\n",
    "import rasterio\n",
    "import numpy as np\n",
    "import pandas as pd\n",
    "\n",
    "from matplotlib import pyplot as plt\n",
    "\n",
    "sys.path.insert(0, '../')\n",
    "from managers import managers\n",
    "\n",
    "%load_ext autoreload\n",
    "%autoreload 2"
   ]
  },
  {
   "cell_type": "code",
   "execution_count": null,
   "metadata": {},
   "outputs": [],
   "source": [
    "# load without resetting\n",
    "proj = managers.LandsatProject(\n",
    "    project_root='../projects/test-landsat',\n",
    "    reset=False,    # whether to delete everything and start from scratch\n",
    "    replay=False    # whether to re-run all cached operations\n",
    ")"
   ]
  },
  {
   "cell_type": "code",
   "execution_count": null,
   "metadata": {},
   "outputs": [],
   "source": [
    "# future features\n",
    "operations = proj.find_operations(method='stack', bands=[4,3,2])\n",
    "\n",
    "proj.show_descendents(operation)\n",
    "proj.show_ancestors(operation)\n",
    "\n",
    "im = proj.open_dataset(operation='last')\n",
    "im = proj.open_dataset(operation=ind)\n",
    "\n",
    "# re-run selected or all operations\n",
    "proj.refresh_operations(operation='all')"
   ]
  },
  {
   "cell_type": "code",
   "execution_count": null,
   "metadata": {},
   "outputs": [],
   "source": [
    "proj.autogain(source='last', percentile=99)\n",
    "proj.autogain(source='root', percentile=99)\n",
    "proj.autogain(source=operations[0])"
   ]
  },
  {
   "cell_type": "code",
   "execution_count": null,
   "metadata": {},
   "outputs": [],
   "source": [
    "proj.serialize()"
   ]
  },
  {
   "cell_type": "code",
   "execution_count": null,
   "metadata": {},
   "outputs": [],
   "source": [
    "source = proj.get_operation('last').destination"
   ]
  },
  {
   "cell_type": "code",
   "execution_count": null,
   "metadata": {},
   "outputs": [],
   "source": [
    "proj.autogain(source)"
   ]
  },
  {
   "cell_type": "code",
   "execution_count": null,
   "metadata": {},
   "outputs": [],
   "source": []
  },
  {
   "cell_type": "code",
   "execution_count": null,
   "metadata": {},
   "outputs": [],
   "source": [
    "plt.imshow(np.stack((im_dst[0, :, :], im_dst[1, :, :], im_dst[2, :, :]), axis=2))"
   ]
  },
  {
   "cell_type": "code",
   "execution_count": null,
   "metadata": {},
   "outputs": [],
   "source": []
  }
 ],
 "metadata": {
  "kernelspec": {
   "display_name": "gdalenv",
   "language": "python",
   "name": "gdalenv"
  },
  "language_info": {
   "codemirror_mode": {
    "name": "ipython",
    "version": 3
   },
   "file_extension": ".py",
   "mimetype": "text/x-python",
   "name": "python",
   "nbconvert_exporter": "python",
   "pygments_lexer": "ipython3",
   "version": "3.6.6"
  }
 },
 "nbformat": 4,
 "nbformat_minor": 2
}
