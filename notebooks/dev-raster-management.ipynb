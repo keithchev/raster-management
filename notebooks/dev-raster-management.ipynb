{
 "cells": [
  {
   "cell_type": "raw",
   "metadata": {},
   "source": [
    "Raw dataset types\n",
    "    - A set of DEM images (NED13 tiles, elev48i100, etc)\n",
    "    - A set of Landsat scenes\n",
    "    - A rasterized shapefile (maybe)\n",
    "\n",
    "\n",
    "RasterProject\n",
    "\n",
    "  LandsatProject operations\n",
    "    - stack (bands -> RGB)\n",
    "    - blend (BW or RGB from a linear combination of bands) (bands -> RGB or bands -> band)\n",
    "    - autogain (bands -> bands or RGB -> RGB)\n",
    "    - pansharpen (RGB + B8 -> RGB)\n",
    "\n",
    "  DEMProject operations\n",
    "    - hillshade\n",
    "    - color relief\n",
    "    - texture shade\n",
    "    - merging color relief and shading\n",
    "   \n",
    "  Common operations\n",
    "    - initialize (rio merge)\n",
    "    - warp\n",
    "    - crop\n",
    "    - executing/replaying user-defined workflows\n",
    "    - searching for operations and showing children/descendents\n",
    " \n",
    " \n",
    "Generic landsat workflow\n",
    "    1) initialize (crop and/or merge)\n",
    "    2) blend bands to generate an RGB image\n",
    "    3) autogain and/or pansharpen the RGB image\n",
    "\n",
    "\n",
    "Generic DEM workflow\n",
    "    1) initialize (crop and/or merge)\n",
    "    2) maybe reproject/warp\n",
    "    3) generate color relief, hill-shaded relief, and texture-shaded relief\n",
    "    4) blend the shaded images with the color-relief\n",
    "    5) add rasterized rivers or waterbodies \n",
    "\n",
    "\n",
    "Idea that mixes Landsat with DEMs to illustrate the elevation-dependence of e.g., vegetation or snow: generate BW image from landsat (e.g., density of vegetation or presence of snow), and blend with a single-color color relief (itself blended with shaded relief). "
   ]
  },
  {
   "cell_type": "raw",
   "metadata": {},
   "source": [
    "TODO\n",
    "\n",
    "- figure out how to link operations together - right now, they're only linked implicitly\n",
    "  by source and destination filenames\n",
    "\n",
    "- for landsat projects, implement blend - BW or RGB image from a linear combination of bands\n",
    "\n",
    "- optionally re-run all operations when initializing from an existing project,\n",
    "  in order to refresh all of the existing files\n",
    "  (note: this makes the *order* of the operations list critical)\n",
    "\n",
    "- optionally, verify that the cached datasets are consistent with the operations' kwargs \n",
    "  (only possible for crop and warp, not for stack, blend, or autogain)\n",
    "  (currently, we only check that the sources and destination of each operation exist)\n",
    "\n",
    "- initialize a new dataset with a list of user-defined operations\n",
    "  (copied from a lower-resolution test dataset, for example)\n",
    "  this would be a lot like re-running all cached operations when initializing from an existing project"
   ]
  },
  {
   "cell_type": "code",
   "execution_count": null,
   "metadata": {},
   "outputs": [],
   "source": [
    "import os\n",
    "import sys\n",
    "import json\n",
    "import glob\n",
    "import datetime\n",
    "import hashlib\n",
    "import rasterio\n",
    "import numpy as np\n",
    "import pandas as pd\n",
    "\n",
    "from matplotlib import pyplot as plt\n",
    "\n",
    "sys.path.insert(0, '../')\n",
    "from managers import managers\n",
    "\n",
    "%load_ext autoreload\n",
    "%autoreload 2"
   ]
  },
  {
   "cell_type": "code",
   "execution_count": null,
   "metadata": {},
   "outputs": [],
   "source": [
    "# load without resetting\n",
    "proj = managers.LandsatProject(\n",
    "    project_root='../projects/test-landsat',\n",
    "    reset=False,    # whether to delete everything and start from scratch\n",
    "    replay=False    # whether to re-run all cached operations\n",
    ")"
   ]
  },
  {
   "cell_type": "code",
   "execution_count": null,
   "metadata": {},
   "outputs": [],
   "source": [
    "# future features\n",
    "operations = proj.find_operations(method='stack', bands=[4,3,2])\n",
    "\n",
    "proj.show_descendents(operation)\n",
    "proj.show_ancestors(operation)\n",
    "\n",
    "im = proj.open_dataset(operation='last')\n",
    "im = proj.open_dataset(operation=ind)\n",
    "\n",
    "# re-run selected or all operations\n",
    "proj.refresh_operations(operation='all')"
   ]
  },
  {
   "cell_type": "code",
   "execution_count": null,
   "metadata": {},
   "outputs": [],
   "source": [
    "proj.autogain(source='last', percentile=99)\n",
    "proj.autogain(source='root', percentile=99)\n",
    "proj.autogain(source=operations[0])"
   ]
  },
  {
   "cell_type": "code",
   "execution_count": null,
   "metadata": {},
   "outputs": [],
   "source": [
    "proj.serialize()"
   ]
  },
  {
   "cell_type": "code",
   "execution_count": null,
   "metadata": {},
   "outputs": [],
   "source": [
    "source = proj.get_operation('last').destination"
   ]
  },
  {
   "cell_type": "code",
   "execution_count": null,
   "metadata": {},
   "outputs": [],
   "source": [
    "proj.autogain(source)"
   ]
  },
  {
   "cell_type": "code",
   "execution_count": null,
   "metadata": {},
   "outputs": [],
   "source": []
  },
  {
   "cell_type": "code",
   "execution_count": null,
   "metadata": {},
   "outputs": [],
   "source": [
    "plt.imshow(np.stack((im_dst[0, :, :], im_dst[1, :, :], im_dst[2, :, :]), axis=2))"
   ]
  },
  {
   "cell_type": "code",
   "execution_count": null,
   "metadata": {},
   "outputs": [],
   "source": []
  }
 ],
 "metadata": {
  "kernelspec": {
   "display_name": "gdalenv",
   "language": "python",
   "name": "gdalenv"
  },
  "language_info": {
   "codemirror_mode": {
    "name": "ipython",
    "version": 3
   },
   "file_extension": ".py",
   "mimetype": "text/x-python",
   "name": "python",
   "nbconvert_exporter": "python",
   "pygments_lexer": "ipython3",
   "version": "3.6.6"
  }
 },
 "nbformat": 4,
 "nbformat_minor": 2
}
