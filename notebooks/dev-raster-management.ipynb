{
 "cells": [
  {
   "cell_type": "raw",
   "metadata": {},
   "source": [
    "Raw dataset types\n",
    "    - A set of DEM images (NED13 tiles, elev48i100, etc)\n",
    "    - A set of Landsat scenes\n",
    "    - A rasterized shapefile (maybe)\n",
    "\n",
    "Common operations\n",
    "    - initialize (rio merge)\n",
    "    - warp\n",
    "    - crop\n",
    " \n",
    "Landsat-specific operations\n",
    "    - stack (bands -> RGB)\n",
    "    - blend (BW or RGB from a linear combination of bands) (bands -> RGB or bands -> band)\n",
    "    - autogain (bands -> bands or RGB -> RGB)\n",
    "    - pansharpen (RGB + B8 -> RGB)\n",
    "\n",
    "DEM-specific perations\n",
    "    - hillshade\n",
    "    - color relief\n",
    "    - texture shade\n",
    "    - merging color relief and shading\n",
    "   \n",
    "Generic Landsat workflow\n",
    "    1) initialize (crop and/or merge)\n",
    "    2) blend bands to generate an RGB image\n",
    "    3) autogain and/or pansharpen the RGB image\n",
    "\n",
    "Generic DEM workflow\n",
    "    1) initialize (crop and/or merge)\n",
    "    2) maybe reproject/warp\n",
    "    3) generate color relief, hill-shaded relief, and texture-shaded relief\n",
    "    4) blend the shaded images with the color-relief\n",
    "    5) add rasterized roads, rivers, waterbodies \n",
    "\n",
    "\n",
    "Idea that mixes Landsat with DEMs to illustrate the elevation-dependence of e.g., vegetation or snow: generate BW image from landsat (e.g., density of vegetation or presence of snow), and blend with a single-color color relief (itself blended with shaded relief). "
   ]
  },
  {
   "cell_type": "raw",
   "metadata": {},
   "source": [
    "TODO\n",
    "- add an gdalinfo method to Dataset classes\n",
    "\n",
    "- use rasterio API for transforming coordinates, rather than CLI\n",
    "\n",
    "- fix use of weight argument in multiply_rgb - currently not implemented correctly\n",
    "\n",
    "- add cleanup method to remove files that do not appear in the operations tree\n",
    "\n",
    "- implement rasterization operation with optional dilation (for roads and rivers)\n",
    "\n",
    "- use setter/getter for Dataset.exists, and check that files exist when it's changed from False to True; \n",
    "  this will allow us to separate operation deserialization from validation\n",
    "\n",
    "- Optionally re-run all operations when initializing from an existing project\n",
    "  Note that this requires recursively traversing the 'tree' implied by the operations, which are linked\n",
    "  only implicitly by source and destination filenames. \n",
    "\n",
    "- Initialize a new dataset with a list of user-defined operations\n",
    "  (copied from a lower-resolution test dataset, for example).\n",
    "  This would be a lot like re-running all cached operations when initializing from an existing project.\n",
    "    \n",
    "- Verify that the cached datasets are consistent with the operations' kwargs \n",
    "  (only possible for crop and warp, not for stack, blend, or autogain).\n",
    "  Currently, we only check the res and bounds of the root derived dataset are consistent, \n",
    "  and that the source and destination of each operation exist.\n",
    "\n",
    "- For landsat projects, implement blend - generating a BW or RGB image from a linear combination of bands\n",
    "  (make a BW image from a vector and an RGB image from a matrix)"
   ]
  },
  {
   "cell_type": "raw",
   "metadata": {},
   "source": [
    "Notes re the 'gdalenv2' env (January 2019)\n",
    "This became necessary when installing opencv (using conda -c conda-forge) in the 'gdalenv' env introduced a libgdal error when importing rasterio (or gdal). This is presumably because the libgdal version changed.\n",
    "\n",
    "For gdalenv2, I started over from scratch using\n",
    "\n",
    "    conda create -n gdalenv2 python=3.6 rasterio opencv ipykernel deepdiff\n",
    "\n",
    "This works (i.e., without a libgdal error when importing rasterio). Next, installed fiona using conda (which requires gdal itself). Finally, installed matplotlib using pip, not conda (because, for the latest version of matplotlib, conda wants to downgrade rasterio to 0.36 - not clear why). "
   ]
  },
  {
   "cell_type": "code",
   "execution_count": null,
   "metadata": {},
   "outputs": [],
   "source": [
    "import os\n",
    "import re\n",
    "import sys\n",
    "import json\n",
    "import glob\n",
    "import datetime\n",
    "import rasterio\n",
    "import numpy as np\n",
    "from matplotlib import pyplot as plt\n",
    "\n",
    "import cv2\n",
    "import fiona\n",
    "import rasterio.mask\n",
    "\n",
    "sys.path.insert(0, '../')\n",
    "from managers import managers\n",
    "\n",
    "%load_ext autoreload\n",
    "%autoreload 2\n",
    "\n",
    "gdalenv_bin = '/home/keith/anaconda3/envs/gdalenv/bin/'"
   ]
  },
  {
   "cell_type": "markdown",
   "metadata": {},
   "source": [
    "### Load a Landsat project"
   ]
  },
  {
   "cell_type": "code",
   "execution_count": null,
   "metadata": {},
   "outputs": [],
   "source": [
    "proj = managers.LandsatProject(\n",
    "    project_root='../projects/test-landsat',\n",
    "    reset=False,    # whether to delete everything and start from scratch\n",
    "    refresh=False   # whether to re-run all cached operations\n",
    ")"
   ]
  },
  {
   "cell_type": "markdown",
   "metadata": {},
   "source": [
    "### Future features"
   ]
  },
  {
   "cell_type": "code",
   "execution_count": null,
   "metadata": {},
   "outputs": [],
   "source": [
    "# search for operations\n",
    "operations = proj.find_operations(method='stack', bands=[4,3,2])\n",
    "\n",
    "# show portions of the operations tree\n",
    "proj.show_descendents(operation)\n",
    "proj.show_ancestors(operation)\n",
    "\n",
    "# open the dataset produced by an operation\n",
    "im = proj.open_dataset(operation='last')\n",
    "im = proj.open_dataset(operation=ind)\n",
    "\n",
    "# re-run selected or all operations\n",
    "proj.rerun_operations(operations='all')"
   ]
  },
  {
   "cell_type": "markdown",
   "metadata": {},
   "source": [
    "### Load a DEM project"
   ]
  },
  {
   "cell_type": "code",
   "execution_count": null,
   "metadata": {},
   "outputs": [],
   "source": [
    "# transform colormap file into dict\n",
    "with open('../../../_projects-db/sierra-map/data/cmap/cmap_crop2.txt', 'r') as file:\n",
    "    cmap = [[int(val) for val in line.strip().split(' ')] for line in file.readlines()]\n",
    "cmap = [{'elevation': row[0]*3.28, 'color': tuple(np.array(row[1:]))} for row in cmap]"
   ]
  },
  {
   "cell_type": "code",
   "execution_count": null,
   "metadata": {},
   "outputs": [],
   "source": [
    "cmap"
   ]
  },
  {
   "cell_type": "code",
   "execution_count": null,
   "metadata": {},
   "outputs": [],
   "source": [
    "# DEM without resetting\n",
    "proj = managers.DEMProject(\n",
    "    project_root='../projects/test-dem', \n",
    "    dataset_paths='../test/datasets/dem/n38w120/n38w120_100m.tif',\n",
    "    reset=False)"
   ]
  },
  {
   "cell_type": "code",
   "execution_count": null,
   "metadata": {},
   "outputs": [],
   "source": [
    "path = proj.operations[2].destination.path\n",
    "with rasterio.open(path) as src:\n",
    "    im = src.read()\n",
    "    profile = src.profile"
   ]
  },
  {
   "cell_type": "code",
   "execution_count": null,
   "metadata": {},
   "outputs": [],
   "source": [
    "proj.operations"
   ]
  },
  {
   "cell_type": "markdown",
   "metadata": {},
   "source": [
    "### Rasterizing a shapefile"
   ]
  },
  {
   "cell_type": "raw",
   "metadata": {},
   "source": [
    "commands:\n",
    "\n",
    "# shapefile to geojson:\n",
    "fio dump shapefilename > jsonfilename\n",
    "\n",
    "# rasterize a fio-dumped shapefile's geoJSON to a new TIF\n",
    "'rio rasterize jsonfilename tiffilename '\n",
    "'--overwrite -r .005 --bounds \"[-124.4, 32.5, -114.3, 43.3]\"'\n",
    "'--property coordinates --default-value 255 '\n",
    "\n",
    "# note that shapefiles are usually in a CRS whose units are degrees - e.g., 4326 or 4269 - and the geoJSON is not projected to CRSs whose units are in meters (e.g., 3857). "
   ]
  },
  {
   "cell_type": "markdown",
   "metadata": {},
   "source": [
    "### Roads from OSM\n",
    "\n",
    "These shapefiles downloaded from http://download.geofabrik.de/north-america.html"
   ]
  },
  {
   "cell_type": "code",
   "execution_count": null,
   "metadata": {},
   "outputs": [],
   "source": [
    "info = managers.utils.shell(\n",
    "    'fio info /home/keith/Downloads/norcal-latest-free.shp/gis_osm_roads_free_1.shp', \n",
    "    verbose=False)\n",
    "json.loads(info)"
   ]
  },
  {
   "cell_type": "code",
   "execution_count": null,
   "metadata": {},
   "outputs": [],
   "source": [
    "# generate roads-all.json\n",
    "d = {}\n",
    "features = []\n",
    "road_types = ['motorway', 'trunk', 'primary', 'secondary', 'tertiary']\n",
    "\n",
    "with fiona.open('/home/keith/Downloads/norcal-latest-free.shp/gis_osm_roads_free_1.shp', \"r\") as shapefile:\n",
    "    for ind, feature in shapefile.items():\n",
    "        if feature['properties']['fclass'] in road_types:\n",
    "            features.append(feature)\n",
    "        \n",
    "with open('/home/keith/Downloads/norcal-latest-free.shp/roads-all.json', 'w') as file:\n",
    "    d['features'] = features\n",
    "    json.dump(d, file)"
   ]
  },
  {
   "cell_type": "code",
   "execution_count": null,
   "metadata": {},
   "outputs": [],
   "source": [
    "# geometry for just one road\n",
    "road_startswith = 'Hauser Bridge'\n",
    "with fiona.open('/home/keith/Downloads/norcal-latest-free.shp/gis_osm_roads_free_1.shp', \"r\") as shapefile:\n",
    "    d = {}\n",
    "    features = []\n",
    "    for ind, feature in shapefile.items():\n",
    "        if feature['properties']['name'] and feature['properties']['name'].startswith(road_startswith):\n",
    "            features.append(feature)\n",
    "\n",
    "with open('/home/keith/Downloads/norcal-latest-free.shp/roads-one.json', 'w') as file:\n",
    "    d['features'] = features\n",
    "    json.dump(d, file)"
   ]
  },
  {
   "cell_type": "markdown",
   "metadata": {},
   "source": [
    "### Rasterize `roads-all.json` using `rasterio.rasterize`"
   ]
  },
  {
   "cell_type": "code",
   "execution_count": null,
   "metadata": {},
   "outputs": [],
   "source": [
    "from affine import Affine\n",
    "from rasterio import plot as rplot\n",
    "from rasterio.crs import CRS\n",
    "from rasterio.features import rasterize\n",
    "from rasterio.features import bounds as calculate_bounds"
   ]
  },
  {
   "cell_type": "code",
   "execution_count": null,
   "metadata": {},
   "outputs": [],
   "source": [
    "with open('/home/keith/Downloads/norcal-latest-free.shp/roads-all.json') as file:\n",
    "    geojson = json.load(file)\n",
    "\n",
    "geometries = [feature['geometry'] for feature in geojson['features']]\n",
    "len(geometries)\n",
    "\n",
    "# bounds = geojson.get('bbox', calculate_bounds(geojson))\n",
    "bounds = (-124, 38, -122, 40)\n",
    "res = (.002, .002)\n",
    "\n",
    "width = max(int(np.ceil((bounds[2] - bounds[0]) / float(res[0]))), 1)\n",
    "height = max(int(np.ceil((bounds[3] - bounds[1]) / float(res[1]))), 1)\n",
    "\n",
    "src_crs = CRS.from_string('EPSG:4326')\n",
    "\n",
    "kwargs = {\n",
    "    'count': 1,\n",
    "    'crs': src_crs,\n",
    "    'width': width,\n",
    "    'height': height,\n",
    "    'transform': Affine(res[0], 0, bounds[0], 0, -res[1], bounds[3]),\n",
    "    'driver': 'GTiff'\n",
    "}\n",
    "\n",
    "result = rasterize(\n",
    "    geometries,\n",
    "    out_shape=(kwargs['height'], kwargs['width']),\n",
    "    transform=kwargs['transform'],\n",
    "    dtype=kwargs.get('dtype'),\n",
    "    all_touched=True,\n",
    "    default_value=255,\n",
    "    fill=0)"
   ]
  },
  {
   "cell_type": "code",
   "execution_count": null,
   "metadata": {},
   "outputs": [],
   "source": [
    "result_last = result.copy()"
   ]
  },
  {
   "cell_type": "code",
   "execution_count": null,
   "metadata": {},
   "outputs": [],
   "source": [
    "roads = result.astype(float)/255\n",
    "roads_last = result_last.astype(float)/255"
   ]
  },
  {
   "cell_type": "code",
   "execution_count": null,
   "metadata": {},
   "outputs": [],
   "source": [
    "rplot.show(result, transform=kwargs['transform'])"
   ]
  },
  {
   "cell_type": "code",
   "execution_count": null,
   "metadata": {},
   "outputs": [],
   "source": [
    "plt.figure(figsize=(12,12))\n",
    "final = (255*(roads + roads_last/2)).astype('uint8')\n",
    "plt.imshow(final)"
   ]
  },
  {
   "cell_type": "code",
   "execution_count": null,
   "metadata": {},
   "outputs": [],
   "source": [
    "np.unique(final[:])"
   ]
  },
  {
   "cell_type": "code",
   "execution_count": null,
   "metadata": {},
   "outputs": [],
   "source": [
    "kwargs['dtype'] = 'uint8'\n",
    "kwargs['driver'] = 'GTiff'\n",
    "kwargs['tiled'] = False\n",
    "\n",
    "with rasterio.open('test.tif', 'w', **kwargs) as out:\n",
    "    out.write(final, indexes=1)"
   ]
  },
  {
   "cell_type": "markdown",
   "metadata": {},
   "source": [
    "### Skipping the rio CLI by calling the underlying methods directly\n",
    "\n",
    "Calling the underlying methods requires commenting out all of the decorators in `rio/<command>.py`, which will break the actual rio CLI. Testing this out on `rio warp`. "
   ]
  },
  {
   "cell_type": "code",
   "execution_count": null,
   "metadata": {},
   "outputs": [],
   "source": [
    "from rasterio.rio import warp"
   ]
  },
  {
   "cell_type": "code",
   "execution_count": null,
   "metadata": {},
   "outputs": [],
   "source": [
    "# mock the click package's context object\n",
    "class Context:\n",
    "    pass\n",
    "\n",
    "verbosity = 0\n",
    "ctx = Context()\n",
    "ctx.obj = {}\n",
    "ctx.obj[\"verbosity\"] = verbosity\n",
    "envopts = {\"CPL_DEBUG\": (verbosity > 2)}\n",
    "ctx.obj[\"env\"] = rasterio.Env(**envopts)"
   ]
  },
  {
   "cell_type": "raw",
   "metadata": {},
   "source": [
    "def warp(ctx, files, output, driver, like, dst_crs, \n",
    "         dimensions, src_bounds, dst_bounds, res, resampling, \n",
    "         src_nodata, dst_nodata, threads,\n",
    "         check_invert_proj, overwrite, creation_options,\n",
    "         target_aligned_pixels):"
   ]
  },
  {
   "cell_type": "code",
   "execution_count": null,
   "metadata": {},
   "outputs": [],
   "source": [
    "files = ['../projects/test-dem/test-dem_hillshade_20190110-215946.TIF']\n",
    "output = '../projects/test-dem/test_warp.tif'\n",
    "\n",
    "warp.warp(ctx, files, output, 'GTiff', None, 'EPSG:4269', \n",
    "          None, None, None, [], 'nearest', \n",
    "          None, None, 1, True, True, {'tiled': False}, False)"
   ]
  },
  {
   "cell_type": "code",
   "execution_count": null,
   "metadata": {},
   "outputs": [],
   "source": []
  }
 ],
 "metadata": {
  "kernelspec": {
   "display_name": "gdalenv2",
   "language": "python",
   "name": "gdalenv2"
  },
  "language_info": {
   "codemirror_mode": {
    "name": "ipython",
    "version": 3
   },
   "file_extension": ".py",
   "mimetype": "text/x-python",
   "name": "python",
   "nbconvert_exporter": "python",
   "pygments_lexer": "ipython3",
   "version": "3.6.7"
  }
 },
 "nbformat": 4,
 "nbformat_minor": 2
}
