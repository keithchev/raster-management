{
 "cells": [
  {
   "cell_type": "code",
   "execution_count": null,
   "metadata": {},
   "outputs": [],
   "source": [
    "import os\n",
    "import re\n",
    "import sys\n",
    "import shutil\n",
    "import tifffile\n",
    "import subprocess\n",
    "import Nio as nio\n",
    "import numpy as np\n",
    "from matplotlib import pyplot as plt\n",
    "\n",
    "sys.path.insert(0, '../')\n",
    "from managers import utils\n",
    "\n",
    "%load_ext autoreload\n",
    "%autoreload 2"
   ]
  },
  {
   "cell_type": "code",
   "execution_count": null,
   "metadata": {},
   "outputs": [],
   "source": [
    "# bands 1, 2, 3 from 2019-10-03 at 5PM PST\n",
    "filepaths = [    \n",
    "    '/home/keith/Downloads/OR_ABI-L1b-RadC-M6C01_G17_s20192760001196_e20192760003569_c20192760004021.nc',\n",
    "    '/home/keith/Downloads/OR_ABI-L1b-RadC-M6C02_G17_s20192760001196_e20192760003569_c20192760003598.nc',\n",
    "    '/home/keith/Downloads/OR_ABI-L1b-RadC-M6C03_G17_s20192760001196_e20192760003569_c20192760004025.nc',\n",
    "]"
   ]
  },
  {
   "cell_type": "code",
   "execution_count": null,
   "metadata": {},
   "outputs": [],
   "source": [
    "# pyNio documentation: https://www.pyngl.ucar.edu/Nio.shtml\n",
    "\n",
    "# the image data is found in the 'Rad' (for 'radiance') variable\n",
    "file = nio.open_file(filepaths[1])\n",
    "rad = file.variables['Rad']\n",
    "im = file.variables['Rad'][:]\n",
    "im.shape"
   ]
  },
  {
   "cell_type": "code",
   "execution_count": null,
   "metadata": {},
   "outputs": [],
   "source": [
    "list(file.variables.keys())"
   ]
  },
  {
   "cell_type": "code",
   "execution_count": null,
   "metadata": {},
   "outputs": [],
   "source": [
    "# the projection parameters\n",
    "print(file.variables['goes_imager_projection'])"
   ]
  },
  {
   "cell_type": "code",
   "execution_count": null,
   "metadata": {},
   "outputs": [],
   "source": [
    "print(file.variables['geospatial_lat_lon_extent'])"
   ]
  },
  {
   "cell_type": "raw",
   "metadata": {},
   "source": [
    "# this is the CRS of the GeoTIFF extracted from the NetCDF using `rio warp`\n",
    "PROJCS[\"unnamed\",\n",
    "   GEOGCS[\"unknown\",\n",
    "          DATUM[\"unnamed\",SPHEROID[\"Spheroid\",6378137,298.2572221]],\n",
    "          PRIMEM[\"Greenwich\",0],\n",
    "          UNIT[\"degree\",0.0174532925199433,AUTHORITY[\"EPSG\",\"9122\"]]\n",
    "   ],\n",
    "   PROJECTION[\"Geostationary_Satellite\"],\n",
    "   PARAMETER[\"central_meridian\",-137],\n",
    "   PARAMETER[\"satellite_height\",35786023],\n",
    "   PARAMETER[\"false_easting\",0],\n",
    "   PARAMETER[\"false_northing\",0],\n",
    "   UNIT[\"metre\",1,AUTHORITY[\"EPSG\",\"9001\"]],\n",
    "   AXIS[\"Easting\",EAST],\n",
    "   AXIS[\"Northing\",NORTH],\n",
    "   EXTENSION[\"PROJ4\",\"+proj=geos +lon_0=-137 +h=35786023 +x_0=0 +y_0=0 +ellps=GRS80 +units=m +no_defs +sweep=x\"]]"
   ]
  },
  {
   "cell_type": "code",
   "execution_count": null,
   "metadata": {},
   "outputs": [],
   "source": [
    "plt.imshow(im[::4, ::4])"
   ]
  },
  {
   "cell_type": "code",
   "execution_count": null,
   "metadata": {},
   "outputs": [],
   "source": []
  }
 ],
 "metadata": {
  "kernelspec": {
   "display_name": "pynioenv",
   "language": "python",
   "name": "pynioenv"
  },
  "language_info": {
   "codemirror_mode": {
    "name": "ipython",
    "version": 3
   },
   "file_extension": ".py",
   "mimetype": "text/x-python",
   "name": "python",
   "nbconvert_exporter": "python",
   "pygments_lexer": "ipython3",
   "version": "3.7.3"
  }
 },
 "nbformat": 4,
 "nbformat_minor": 2
}
