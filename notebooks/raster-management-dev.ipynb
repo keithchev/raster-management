{
 "cells": [
  {
   "cell_type": "markdown",
   "metadata": {},
   "source": [
    "### Operations\n",
    "\n",
    "- General\n",
    "    - crop/merge (in one command)\n",
    "    - warp\n",
    "    - rasterize\n",
    "\n",
    "\n",
    "- DEMs\n",
    "    - color relief\n",
    "    - hill shading\n",
    "    - texture shading\n",
    "    - various blends of color relief and shaded relief\n",
    "\n",
    "\n",
    "- Landsat\n",
    "    - stacking bands\n",
    "    - autogain/white-balance\n",
    "    - pansharpening\n",
    "\n",
    "\n",
    "__Raw dataset types__\n",
    "- A set of DEM tiles (NED13 tiles, elev48i100, etc)\n",
    "- A set of Landsat scenes\n",
    "- a shapefile\n",
    "\n",
    "\n",
    "__Basal derived dataset types__\n",
    "- a cropped and/or merged DEM\n",
    "- a set of cropped and/or merged Landsat bands\n",
    "- a rasterized shapefile\n",
    "\n",
    "\n",
    "A basal derived dataset is necessarily the result of a single crop/merge of a raw dataset. The parameters of this single operation, combined with a raw dataset, define the derived dataset.\n",
    "\n",
    "Not yet clear how to fit rasterizing shapefiles into this schema. "
   ]
  },
  {
   "cell_type": "markdown",
   "metadata": {},
   "source": [
    "### Landsat workflow\n",
    "1. Crop and/or merge each band\n",
    "2. Stack three of the merged bands\n",
    "3. autogain/pansharpen/etc the resulting RGB image"
   ]
  },
  {
   "cell_type": "raw",
   "metadata": {},
   "source": [
    "RasterProject\n",
    "\n",
    "  - LandsatProject\n",
    "    - initialize (merge)\n",
    "    - stack (bands -> RGB)\n",
    "    - warp (bands -> bands)\n",
    "    - autogain (bands -> bands or RGB -> RGB)\n",
    "    - pansharpen (bands -> RGB)\n",
    "\n",
    "  - DEMProject\n",
    "    - initialize (merge)\n",
    "    - warp\n",
    "    - hillshade\n",
    "    - color relief\n",
    "\n",
    "\n",
    "Shared methods:\n",
    " - user-defined workflows\n",
    " - auto-saving props and/or log\n",
    "\n",
    "\n",
    "workflow and log item schema\n",
    "{\n",
    "    'sources': [],\n",
    "    'outputs': [],\n",
    "    'method': 'stack', 'warp', etc\n",
    "    'parameters': kwargs for the method\n",
    "}\n",
    "\n"
   ]
  },
  {
   "cell_type": "code",
   "execution_count": null,
   "metadata": {},
   "outputs": [],
   "source": []
  },
  {
   "cell_type": "code",
   "execution_count": null,
   "metadata": {},
   "outputs": [],
   "source": [
    "import os\n",
    "import sys\n",
    "import json\n",
    "import glob\n",
    "import rasterio\n",
    "import numpy as np\n",
    "\n",
    "sys.path.insert(0, '../')\n",
    "from managers import managers\n",
    "\n",
    "%load_ext autoreload\n",
    "%autoreload 2"
   ]
  },
  {
   "cell_type": "code",
   "execution_count": null,
   "metadata": {},
   "outputs": [],
   "source": []
  },
  {
   "cell_type": "code",
   "execution_count": null,
   "metadata": {},
   "outputs": [],
   "source": [
    "L5_scene = '/home/keith/landsat-data/Landsat_1-5/LM01_L1TP_045034_19720916_20180429_01_T2/'\n",
    "L8_scene = '/home/keith/landsat-data/LC08_L1TP_042034_20180907_20180912_01_T1//'"
   ]
  },
  {
   "cell_type": "code",
   "execution_count": null,
   "metadata": {},
   "outputs": [],
   "source": [
    "s = managers.datasets.LandsatScene(L8_scene)"
   ]
  },
  {
   "cell_type": "code",
   "execution_count": null,
   "metadata": {},
   "outputs": [],
   "source": [
    "rp = managers.DEMProject('../projects/test-dem', reset=True)"
   ]
  },
  {
   "cell_type": "code",
   "execution_count": null,
   "metadata": {},
   "outputs": [],
   "source": [
    "rp.define_sources('../test/datasets/dem/n38w120/n38w120_100m.tif')"
   ]
  },
  {
   "cell_type": "code",
   "execution_count": null,
   "metadata": {},
   "outputs": [],
   "source": [
    "rp.initialize(res=200)"
   ]
  },
  {
   "cell_type": "code",
   "execution_count": null,
   "metadata": {},
   "outputs": [],
   "source": [
    "rp.hillshade()"
   ]
  },
  {
   "cell_type": "code",
   "execution_count": null,
   "metadata": {},
   "outputs": [],
   "source": [
    "# test 'raw' landsat scenes\n",
    "scenes = [\n",
    "    'LC08_L1TP_041034_20180916_20180928_01_T1',\n",
    "    'LC08_L1TP_042034_20180907_20180912_01_T1',\n",
    "]"
   ]
  },
  {
   "cell_type": "code",
   "execution_count": null,
   "metadata": {},
   "outputs": [],
   "source": [
    "gm = managers.RasterProject('../projects/test-landsat', reset=True)"
   ]
  },
  {
   "cell_type": "code",
   "execution_count": null,
   "metadata": {},
   "outputs": [],
   "source": [
    "gm.define_sources(scenes, root='../test/datasets/landsat/')"
   ]
  },
  {
   "cell_type": "code",
   "execution_count": null,
   "metadata": {},
   "outputs": [],
   "source": [
    "gm.sources[0].filepath(1)"
   ]
  },
  {
   "cell_type": "code",
   "execution_count": null,
   "metadata": {},
   "outputs": [],
   "source": [
    "# bounds from merging-landsat.ipynb for central/southern sierra\n",
    "bounds = managers.utils.shell(\n",
    "    'echo \"[-119.8, 36.2, -117.8, 38.2]\" | %s transform - --dst-crs %s --precision 2' % \\\n",
    "     (gm.rio, gm.sources[0].filepath(1)))\n",
    "\n",
    "bounds = json.loads(bounds)"
   ]
  },
  {
   "cell_type": "code",
   "execution_count": null,
   "metadata": {},
   "outputs": [],
   "source": [
    "result = gm.initialize(400, bounds)"
   ]
  },
  {
   "cell_type": "code",
   "execution_count": null,
   "metadata": {},
   "outputs": [],
   "source": [
    "gm.props"
   ]
  },
  {
   "cell_type": "code",
   "execution_count": null,
   "metadata": {},
   "outputs": [],
   "source": []
  }
 ],
 "metadata": {
  "kernelspec": {
   "display_name": "gdalenv",
   "language": "python",
   "name": "gdalenv"
  },
  "language_info": {
   "codemirror_mode": {
    "name": "ipython",
    "version": 3
   },
   "file_extension": ".py",
   "mimetype": "text/x-python",
   "name": "python",
   "nbconvert_exporter": "python",
   "pygments_lexer": "ipython3",
   "version": "3.6.6"
  }
 },
 "nbformat": 4,
 "nbformat_minor": 2
}
