{
 "cells": [
  {
   "cell_type": "markdown",
   "metadata": {},
   "source": [
    "### Merging NED13 tiles and generating hillshaded color-relief terrain maps"
   ]
  },
  {
   "cell_type": "code",
   "execution_count": null,
   "metadata": {},
   "outputs": [],
   "source": [
    "import os\n",
    "import sys\n",
    "import json\n",
    "import glob\n",
    "import datetime\n",
    "import rasterio\n",
    "import numpy as np\n",
    "import seaborn as sns\n",
    "from matplotlib import pyplot as plt\n",
    "\n",
    "sys.path.insert(0, '../')\n",
    "from managers import managers\n",
    "\n",
    "%load_ext autoreload\n",
    "%autoreload 2"
   ]
  },
  {
   "cell_type": "code",
   "execution_count": null,
   "metadata": {},
   "outputs": [],
   "source": [
    "# load the raw NED13 tile directories\n",
    "ned13_dirs = [p for p in glob.glob('/media/keith/USGS_Backup/USGS/NED13/*') if os.path.isdir(p)]\n",
    "ned13_dirs.sort()"
   ]
  },
  {
   "cell_type": "code",
   "execution_count": null,
   "metadata": {},
   "outputs": [],
   "source": [
    "sys.path.append('../../../_projects-db/sierra-map/src/')\n",
    "import gdal_wrappers as gw"
   ]
  },
  {
   "cell_type": "code",
   "execution_count": null,
   "metadata": {},
   "outputs": [],
   "source": [
    "# downsample and reproject tiles as tifs\n",
    "# (useful for quickly testing various ROIs)\n",
    "for path in ned13_dirs:\n",
    "    d = managers.datasets.new_dataset('ned13', path)\n",
    "    print(d.name)\n",
    "    \n",
    "    output_filename = '../test/datasets/dem/NED13-tiles/%s_100m.tif' % d.name\n",
    "    if os.path.isfile(output_filename):\n",
    "        continue\n",
    "    \n",
    "    gw.warp(d.bandpath(), output_filename, r='bilinear', tr=(100, 100), t_srs='EPSG:3857')"
   ]
  },
  {
   "cell_type": "code",
   "execution_count": null,
   "metadata": {},
   "outputs": [],
   "source": [
    "# all of the downsampled tiles\n",
    "dataset_paths = glob.glob('../test/datasets/dem/NED13-tiles/*.tif')"
   ]
  },
  {
   "cell_type": "code",
   "execution_count": null,
   "metadata": {},
   "outputs": [],
   "source": [
    "# manually-defined ROIs\n",
    "bounds = {\n",
    "    'guerneville': [-123.8, 38.4, -122.8, 39.],\n",
    "    'south-bay': [-122.55, 36.93, -121.75, 37.65],\n",
    "    'berkeley': [-122.38, 37.75, -122.06, 38.0],\n",
    "    'sf': [-122.54, 37.64, -122.34, 37.81],\n",
    "}"
   ]
  },
  {
   "cell_type": "code",
   "execution_count": null,
   "metadata": {},
   "outputs": [],
   "source": [
    "# original sierra map cmap\n",
    "cmap_orig = [\n",
    "    {'elevation': 0.0, 'color': (25, 125, 225)},\n",
    "    {'elevation': 3.28, 'color': (110, 140, 100)},\n",
    "    {'elevation': 328.0, 'color': (115, 150, 105)},\n",
    "    {'elevation': 1312.0, 'color': (140, 155, 115)},\n",
    "    {'elevation': 1640.0, 'color': (190, 204, 145)},\n",
    "    {'elevation': 3280.0, 'color': (250, 250, 185)},\n",
    "    {'elevation': 4920.0, 'color': (250, 205, 160)},\n",
    "    {'elevation': 6560.0, 'color': (230, 180, 155)},\n",
    "    {'elevation': 8200.0, 'color': (240, 200, 190)},\n",
    "    {'elevation': 9840.0, 'color': (245, 220, 210)},\n",
    "    {'elevation': 11480.0, 'color': (253, 235, 230)},\n",
    "    {'elevation': 13120.0, 'color': (255, 255, 255)}]"
   ]
  },
  {
   "cell_type": "code",
   "execution_count": null,
   "metadata": {},
   "outputs": [],
   "source": [
    "# cmap adapted from the original sierra map (elevations in feet)\n",
    "norcal_cmap = [\n",
    "    {'elevation': 0, 'color': (25.0, 125.0, 225.0)},\n",
    "    {'elevation': 1, 'color': (110.0, 140.0, 100.0)},\n",
    "    {'elevation': 100, 'color': (115.0, 150.0, 105.0)},\n",
    "    {'elevation': 400, 'color': (140.0, 155.0, 115.0)},\n",
    "    {'elevation': 500, 'color': (190.0, 204.0, 145.0)},\n",
    "    {'elevation': 1000, 'color': (250.0, 250.0, 185.0)},\n",
    "    {'elevation': 1500, 'color': (250.0, 205.0, 160.0)},\n",
    "    {'elevation': 2000, 'color': (230.0, 180.0, 155.0)},\n",
    "    {'elevation': 2500, 'color': (240.0, 200.0, 190.0)},\n",
    "    {'elevation': 3000, 'color': (245.0, 220.0, 210.0)},\n",
    "    {'elevation': 3500, 'color': (253.0, 235.0, 230.0)},\n",
    "    {'elevation': 3600, 'color': (255.0, 255.0, 255.0)},\n",
    "]"
   ]
  },
  {
   "cell_type": "code",
   "execution_count": null,
   "metadata": {},
   "outputs": [],
   "source": [
    "# same as norcal_cmap but with less abrupt green-yellow transition at low elevations\n",
    "norcal_cmap_2 = [\n",
    "    {'elevation': 0, 'color': (25.0, 125.0, 225.0)},\n",
    "    {'elevation': 1, 'color': (110.0, 140.0, 100.0)},\n",
    "    {'elevation': 300, 'color': (115.0, 150.0, 105.0)},\n",
    "    {'elevation': 600, 'color': (140.0, 155.0, 115.0)},\n",
    "    {'elevation': 900, 'color': (190.0, 204.0, 145.0)},\n",
    "    {'elevation': 1200, 'color': (250.0, 250.0, 185.0)},\n",
    "    {'elevation': 1500, 'color': (250.0, 205.0, 160.0)},\n",
    "    {'elevation': 1800, 'color': (230.0, 180.0, 155.0)},\n",
    "    {'elevation': 2100, 'color': (240.0, 200.0, 190.0)},\n",
    "    {'elevation': 2400, 'color': (245.0, 220.0, 210.0)},\n",
    "    {'elevation': 2700, 'color': (253.0, 235.0, 230.0)},\n",
    "    {'elevation': 3000, 'color': (255.0, 255.0, 255.0)},\n",
    "]"
   ]
  },
  {
   "cell_type": "code",
   "execution_count": null,
   "metadata": {},
   "outputs": [],
   "source": [
    "cmap_for_sf = [\n",
    "    {'elevation': 0, 'color': (25.0, 125.0, 225.0)},\n",
    "    {'elevation': 1, 'color': (110.0, 140.0, 100.0)},\n",
    "    {'elevation': 100, 'color': (115.0, 150.0, 105.0)},\n",
    "    {'elevation': 200, 'color': (140.0, 155.0, 115.0)},\n",
    "    {'elevation': 300, 'color': (190.0, 204.0, 145.0)},\n",
    "    {'elevation': 400, 'color': (250.0, 250.0, 185.0)},\n",
    "    {'elevation': 500, 'color': (250.0, 205.0, 160.0)},\n",
    "    {'elevation': 600, 'color': (230.0, 180.0, 155.0)},\n",
    "    {'elevation': 700, 'color': (240.0, 200.0, 190.0)},\n",
    "    {'elevation': 800, 'color': (245.0, 220.0, 210.0)},\n",
    "    {'elevation': 900, 'color': (253.0, 235.0, 230.0)},\n",
    "    {'elevation': 1000, 'color': (255.0, 255.0, 255.0)},\n",
    "]"
   ]
  },
  {
   "cell_type": "code",
   "execution_count": null,
   "metadata": {},
   "outputs": [],
   "source": [
    "sns.palplot([np.array(row['color'])/255. for row in norcal_cmap])"
   ]
  },
  {
   "cell_type": "code",
   "execution_count": null,
   "metadata": {},
   "outputs": [],
   "source": [
    "def workflow(project_root, colormap, bounds=None, res=None, reset=False):\n",
    "    '''\n",
    "    Workflow for cropping/merging and processing NED13 ROIs\n",
    "    '''\n",
    "\n",
    "    # transform bounds from lat-lon to the NED13 CRS\n",
    "    if bounds:\n",
    "        d = managers.datasets.new_dataset('ned13', ned13_dirs[0], exists=True)\n",
    "        bounds = managers.utils.transform(bounds, d.bandpath())\n",
    "\n",
    "    proj = managers.DEMProject(\n",
    "        project_root=project_root, \n",
    "        dataset_paths=ned13_dirs,\n",
    "        bounds=bounds,\n",
    "        res=res,\n",
    "        reset=reset)\n",
    "    \n",
    "    # note that using get_operation('last') here assumes reset=True\n",
    "    proj.warp(proj.get_operation('last'), crs='EPSG:3857', res=None)\n",
    "    proj.hill_shade(proj.get_operation('last', 'warp'))\n",
    "    proj.color_relief(proj.get_operation('last', 'warp'), colormap=colormap)\n",
    "    proj.multiply([proj.get_operation('last', 'hill_shade'), proj.get_operation('last', 'color_relief')])\n",
    "    proj.save_props()"
   ]
  },
  {
   "cell_type": "code",
   "execution_count": null,
   "metadata": {},
   "outputs": [],
   "source": [
    "# merge and crop all raw NED13 tiles\n",
    "project_root='/home/keith/raster-projects/ned13-all/'\n",
    "workflow(project_root, bounds=None, res=5e-3, reset=True, colormap=norcal_cmap_2)"
   ]
  },
  {
   "cell_type": "code",
   "execution_count": null,
   "metadata": {},
   "outputs": [],
   "source": [
    "# merge and crop for SF\n",
    "project_root = '/home/keith/raster-projects/ned13-sf/'\n",
    "workflow(project_root, cmap_for_sf, bounds=bounds['sf'], res=None, reset=True)"
   ]
  },
  {
   "cell_type": "markdown",
   "metadata": {},
   "source": [
    "### Debugging"
   ]
  },
  {
   "cell_type": "code",
   "execution_count": null,
   "metadata": {},
   "outputs": [],
   "source": [
    "proj = managers.DEMProject(project_root='/home/keith/raster-projects/ned13-downsampled-norcal/')\n",
    "with rasterio.open(proj.get_operation('last', 'hillshade').destination.path) as src:\n",
    "    im_ds = src.read()"
   ]
  },
  {
   "cell_type": "code",
   "execution_count": null,
   "metadata": {},
   "outputs": [],
   "source": [
    "proj = managers.DEMProject(project_root='/home/keith/raster-projects/ned13-berkeley/', reset=False)"
   ]
  },
  {
   "cell_type": "code",
   "execution_count": null,
   "metadata": {},
   "outputs": [],
   "source": [
    "proj.texture_shade(proj.get_operation('last', 'warp'))"
   ]
  },
  {
   "cell_type": "code",
   "execution_count": null,
   "metadata": {},
   "outputs": [],
   "source": [
    "proj.multiply([proj.get_operation('first', 'multiply'), proj.get_operation('last', 'texture_shade')], weight=.5)"
   ]
  },
  {
   "cell_type": "code",
   "execution_count": null,
   "metadata": {},
   "outputs": [],
   "source": [
    "proj._serialize()"
   ]
  },
  {
   "cell_type": "code",
   "execution_count": null,
   "metadata": {},
   "outputs": [],
   "source": []
  }
 ],
 "metadata": {
  "kernelspec": {
   "display_name": "gdalenv2",
   "language": "python",
   "name": "gdalenv2"
  },
  "language_info": {
   "codemirror_mode": {
    "name": "ipython",
    "version": 3
   },
   "file_extension": ".py",
   "mimetype": "text/x-python",
   "name": "python",
   "nbconvert_exporter": "python",
   "pygments_lexer": "ipython3",
   "version": "3.6.7"
  }
 },
 "nbformat": 4,
 "nbformat_minor": 2
}
