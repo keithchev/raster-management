{
 "cells": [
  {
   "cell_type": "markdown",
   "metadata": {},
   "source": [
    "### Merging NED13 tiles and generating hillshaded color-relief terrain maps"
   ]
  },
  {
   "cell_type": "code",
   "execution_count": null,
   "metadata": {},
   "outputs": [],
   "source": [
    "import os\n",
    "import sys\n",
    "import json\n",
    "import glob\n",
    "import datetime\n",
    "import rasterio\n",
    "import numpy as np\n",
    "import seaborn as sns\n",
    "from matplotlib import pyplot as plt\n",
    "\n",
    "sys.path.insert(0, '../')\n",
    "from managers import managers\n",
    "\n",
    "%load_ext autoreload\n",
    "%autoreload 2"
   ]
  },
  {
   "cell_type": "code",
   "execution_count": null,
   "metadata": {},
   "outputs": [],
   "source": [
    "# load the raw NED13 tile directories\n",
    "ned13_dirs = [p for p in glob.glob('/media/keith/USGS_Backup/USGS/NED13/*') if os.path.isdir(p)]\n",
    "ned13_dirs.sort()"
   ]
  },
  {
   "cell_type": "code",
   "execution_count": null,
   "metadata": {},
   "outputs": [],
   "source": [
    "sys.path.append('../../../_projects-db/sierra-map/src/')\n",
    "import gdal_wrappers as gw"
   ]
  },
  {
   "cell_type": "code",
   "execution_count": null,
   "metadata": {},
   "outputs": [],
   "source": [
    "# downsample and reproject tiles as tifs\n",
    "# (useful for quickly testing various ROIs)\n",
    "for path in ned13_dirs:\n",
    "    d = managers.datasets.new_dataset('ned13', path, exists=True)\n",
    "    output_filename = '/media/keith/USGS_Backup/USGS/NED13-100m/%s_100m.tif' % d.name\n",
    "    if os.path.isfile(output_filename):\n",
    "        continue\n",
    "\n",
    "    print(d.name)\n",
    "    managers.utils.shell(\n",
    "        gw.warp(d.bandpath(), output_filename, r='bilinear', tr=(100, 100), t_srs='EPSG:3857'))"
   ]
  },
  {
   "cell_type": "code",
   "execution_count": null,
   "metadata": {},
   "outputs": [],
   "source": [
    "# all of the downsampled tiles\n",
    "dataset_paths = glob.glob('/media/keith/USGS_Backup/USGS/NED13-100m/*.tif')"
   ]
  },
  {
   "cell_type": "code",
   "execution_count": null,
   "metadata": {},
   "outputs": [],
   "source": [
    "# manually-defined ROIs\n",
    "bounds = {\n",
    "    'guerneville': [-123.8, 38.4, -122.8, 39.],\n",
    "    'south-bay': [-122.55, 36.93, -121.75, 37.65],\n",
    "    'berkeley': [-122.38, 37.75, -122.06, 38.0],\n",
    "    'sf': [-122.54, 37.64, -122.34, 37.81],\n",
    "    'moab': [-109.92, 38.25, -109.16, 38.95],\n",
    "    'moab-wide': [-110.5, 38, -109, 39.5],\n",
    "    'markleeville': [-120.194, 38.269, -119.361, 39]\n",
    "}"
   ]
  },
  {
   "cell_type": "code",
   "execution_count": null,
   "metadata": {},
   "outputs": [],
   "source": [
    "# original sierra map cmap\n",
    "cmap_orig = [\n",
    "    {'elevation': 0.0, 'color': (25, 125, 225)},\n",
    "    {'elevation': 3.28, 'color': (110, 140, 100)},\n",
    "    {'elevation': 328.0, 'color': (115, 150, 105)},\n",
    "    {'elevation': 1312.0, 'color': (140, 155, 115)},\n",
    "    {'elevation': 1640.0, 'color': (190, 204, 145)},\n",
    "    {'elevation': 3280.0, 'color': (250, 250, 185)},\n",
    "    {'elevation': 4920.0, 'color': (250, 205, 160)},\n",
    "    {'elevation': 6560.0, 'color': (230, 180, 155)},\n",
    "    {'elevation': 8200.0, 'color': (240, 200, 190)},\n",
    "    {'elevation': 9840.0, 'color': (245, 220, 210)},\n",
    "    {'elevation': 11480.0, 'color': (253, 235, 230)},\n",
    "    {'elevation': 13120.0, 'color': (255, 255, 255)}]"
   ]
  },
  {
   "cell_type": "code",
   "execution_count": null,
   "metadata": {},
   "outputs": [],
   "source": [
    "# original sierra map adapted to norcal (4800ft - 10000ft)\n",
    "cmap_markleeville = [\n",
    "    {'elevation': 0, 'color': (25, 125, 225)},\n",
    "    {'elevation': 5000, 'color': (110, 140, 100)},\n",
    "    {'elevation': 5500, 'color': (115, 150, 105)},\n",
    "    {'elevation': 6000, 'color': (140, 155, 115)},\n",
    "    {'elevation': 6500, 'color': (190, 204, 145)},\n",
    "    {'elevation': 7000, 'color': (250, 250, 185)},\n",
    "    {'elevation': 7500, 'color': (250, 205, 160)},\n",
    "    {'elevation': 8000, 'color': (230, 180, 155)},\n",
    "    {'elevation': 8500, 'color': (240, 200, 190)},\n",
    "    {'elevation': 9000, 'color': (245, 220, 210)},\n",
    "    {'elevation': 9500, 'color': (253, 235, 230)},\n",
    "    {'elevation': 10000, 'color': (255, 255, 255)}]"
   ]
  },
  {
   "cell_type": "code",
   "execution_count": null,
   "metadata": {},
   "outputs": [],
   "source": [
    "# original sierra map adapted to norcal (4800ft - 10000ft)\n",
    "cmap_markleeville_banded = [\n",
    "    {'elevation': 0, 'color': (25, 125, 225)},\n",
    "    {'elevation': 5000, 'color': (110, 140, 100)},\n",
    "    {'elevation': 5500, 'color': (110, 140, 100)},\n",
    "    {'elevation': 5501, 'color': (115, 150, 105)},\n",
    "    {'elevation': 6000, 'color': (115, 150, 105)},\n",
    "    {'elevation': 6001, 'color': (140, 155, 115)},\n",
    "    {'elevation': 6500, 'color': (140, 155, 115)},\n",
    "    {'elevation': 6501, 'color': (190, 204, 145)},\n",
    "    {'elevation': 7000, 'color': (190, 204, 145)},\n",
    "    {'elevation': 7001, 'color': (250, 250, 185)},\n",
    "    {'elevation': 7500, 'color': (250, 250, 185)},\n",
    "    {'elevation': 7501, 'color': (250, 205, 160)},\n",
    "    {'elevation': 8000, 'color': (250, 205, 160)},\n",
    "    {'elevation': 8001, 'color': (230, 180, 155)},\n",
    "    {'elevation': 8500, 'color': (230, 180, 155)},\n",
    "    {'elevation': 8501, 'color': (240, 200, 190)},\n",
    "    {'elevation': 9000, 'color': (240, 200, 190)},\n",
    "    {'elevation': 9001, 'color': (245, 220, 210)},\n",
    "    {'elevation': 9500, 'color': (245, 220, 210)},\n",
    "    {'elevation': 9501, 'color': (253, 235, 230)},\n",
    "    {'elevation': 10000, 'color': (253, 235, 230)},\n",
    "    {'elevation': 10001, 'color': (255, 255, 255)}]"
   ]
  },
  {
   "cell_type": "code",
   "execution_count": null,
   "metadata": {},
   "outputs": [],
   "source": [
    "# cmap adapted from the original sierra map (elevations in feet)\n",
    "norcal_cmap = [\n",
    "    {'elevation': 0, 'color': (25.0, 125.0, 225.0)},\n",
    "    {'elevation': 1, 'color': (110.0, 140.0, 100.0)},\n",
    "    {'elevation': 100, 'color': (115.0, 150.0, 105.0)},\n",
    "    {'elevation': 400, 'color': (140.0, 155.0, 115.0)},\n",
    "    {'elevation': 500, 'color': (190.0, 204.0, 145.0)},\n",
    "    {'elevation': 1000, 'color': (250.0, 250.0, 185.0)},\n",
    "    {'elevation': 1500, 'color': (250.0, 205.0, 160.0)},\n",
    "    {'elevation': 2000, 'color': (230.0, 180.0, 155.0)},\n",
    "    {'elevation': 2500, 'color': (240.0, 200.0, 190.0)},\n",
    "    {'elevation': 3000, 'color': (245.0, 220.0, 210.0)},\n",
    "    {'elevation': 3500, 'color': (253.0, 235.0, 230.0)},\n",
    "    {'elevation': 3600, 'color': (255.0, 255.0, 255.0)},\n",
    "]"
   ]
  },
  {
   "cell_type": "code",
   "execution_count": null,
   "metadata": {},
   "outputs": [],
   "source": [
    "# same as norcal_cmap but with less abrupt green-yellow transition at low elevations\n",
    "norcal_cmap_2 = [\n",
    "    {'elevation': 0, 'color': (25.0, 125.0, 225.0)},\n",
    "    {'elevation': 1, 'color': (110.0, 140.0, 100.0)},\n",
    "    {'elevation': 300, 'color': (115.0, 150.0, 105.0)},\n",
    "    {'elevation': 600, 'color': (140.0, 155.0, 115.0)},\n",
    "    {'elevation': 900, 'color': (190.0, 204.0, 145.0)},\n",
    "    {'elevation': 1200, 'color': (250.0, 250.0, 185.0)},\n",
    "    {'elevation': 1500, 'color': (250.0, 205.0, 160.0)},\n",
    "    {'elevation': 1800, 'color': (230.0, 180.0, 155.0)},\n",
    "    {'elevation': 2100, 'color': (240.0, 200.0, 190.0)},\n",
    "    {'elevation': 2400, 'color': (245.0, 220.0, 210.0)},\n",
    "    {'elevation': 2700, 'color': (253.0, 235.0, 230.0)},\n",
    "    {'elevation': 3000, 'color': (255.0, 255.0, 255.0)},\n",
    "]"
   ]
  },
  {
   "cell_type": "code",
   "execution_count": null,
   "metadata": {},
   "outputs": [],
   "source": [
    "cmap_for_sf = [\n",
    "    {'elevation': 0, 'color': (25.0, 125.0, 225.0)},\n",
    "    {'elevation': 1, 'color': (110.0, 140.0, 100.0)},\n",
    "    {'elevation': 100, 'color': (115.0, 150.0, 105.0)},\n",
    "    {'elevation': 200, 'color': (140.0, 155.0, 115.0)},\n",
    "    {'elevation': 300, 'color': (190.0, 204.0, 145.0)},\n",
    "    {'elevation': 400, 'color': (250.0, 250.0, 185.0)},\n",
    "    {'elevation': 500, 'color': (250.0, 205.0, 160.0)},\n",
    "    {'elevation': 600, 'color': (230.0, 180.0, 155.0)},\n",
    "    {'elevation': 700, 'color': (240.0, 200.0, 190.0)},\n",
    "    {'elevation': 800, 'color': (245.0, 220.0, 210.0)},\n",
    "    {'elevation': 900, 'color': (253.0, 235.0, 230.0)},\n",
    "    {'elevation': 1000, 'color': (255.0, 255.0, 255.0)},\n",
    "]"
   ]
  },
  {
   "cell_type": "code",
   "execution_count": null,
   "metadata": {},
   "outputs": [],
   "source": [
    "cmap_for_moab = [\n",
    "    {'elevation': 0, 'color': (25.0, 125.0, 225.0)},\n",
    "    {'elevation': 4000, 'color': (110.0, 140.0, 100.0)},\n",
    "    {'elevation': 4500, 'color': (115.0, 150.0, 105.0)},\n",
    "    {'elevation': 5000, 'color': (140.0, 155.0, 115.0)},\n",
    "    {'elevation': 5500, 'color': (190.0, 204.0, 145.0)},\n",
    "    {'elevation': 6000, 'color': (250.0, 250.0, 185.0)},\n",
    "    {'elevation': 6500, 'color': (250.0, 205.0, 160.0)},\n",
    "    {'elevation': 7000, 'color': (230.0, 180.0, 155.0)},\n",
    "    {'elevation': 7500, 'color': (240.0, 200.0, 190.0)},\n",
    "    {'elevation': 8000, 'color': (245.0, 220.0, 210.0)},\n",
    "    {'elevation': 9000, 'color': (253.0, 235.0, 230.0)},\n",
    "    {'elevation': 10000, 'color': (255.0, 255.0, 255.0)},\n",
    "]"
   ]
  },
  {
   "cell_type": "code",
   "execution_count": null,
   "metadata": {},
   "outputs": [],
   "source": [
    "sns.palplot([np.array(row['color'])/255. for row in cmap_orig])"
   ]
  },
  {
   "cell_type": "code",
   "execution_count": null,
   "metadata": {},
   "outputs": [],
   "source": [
    "sns.palplot(sns.color_palette('RdYlGn_r', 10))"
   ]
  },
  {
   "cell_type": "code",
   "execution_count": null,
   "metadata": {},
   "outputs": [],
   "source": [
    "lblue, blue, lgreen, green, lred, red, lorange, orange, lpurple, purple, lbrown, brown = sns.color_palette('Paired')"
   ]
  },
  {
   "cell_type": "code",
   "execution_count": null,
   "metadata": {},
   "outputs": [],
   "source": [
    "# paired cmap for moab (this is pretty ugly)\n",
    "cmap_for_moab = [\n",
    "    (4000, green),\n",
    "    (4500, lgreen),\n",
    "    (5000, orange),\n",
    "    (5500, lorange),\n",
    "    (6000, red),\n",
    "    (6500, lred),\n",
    "    (7000, blue),\n",
    "    (7500, lblue),\n",
    "    (8000, purple),\n",
    "    (8500, lpurple),\n",
    "    (11000, (1, 1, 1))\n",
    "]\n",
    "\n",
    "cmap_for_moab = [{'elevation': row[0], 'color': 255*np.array(row[1])} for row in cmap_for_moab]"
   ]
  },
  {
   "cell_type": "code",
   "execution_count": null,
   "metadata": {},
   "outputs": [],
   "source": [
    "elevations = np.arange(4000, 7000, 250)\n",
    "colors = sns.color_palette('RdYlGn', len(elevations))\n",
    "cmap_for_moab = [{'elevation': e, 'color': np.array(c)*255} for e, c in zip(elevations, colors)]\n",
    "cmap_for_moab.append({'elevation': 11000, 'color': (255, 255, 255)})"
   ]
  },
  {
   "cell_type": "code",
   "execution_count": null,
   "metadata": {},
   "outputs": [],
   "source": [
    "def workflow(project_root, colormap, bounds=None, res=None, reset=False):\n",
    "    '''\n",
    "    Workflow for cropping/merging and processing NED13 ROIs\n",
    "    '''\n",
    "\n",
    "    # transform bounds from lat-lon to the NED13 CRS\n",
    "    if bounds:\n",
    "        d = managers.datasets.new_dataset('ned13', ned13_dirs[0], exists=True)\n",
    "        bounds = managers.utils.transform(bounds, d.bandpath())\n",
    "\n",
    "    proj = managers.DEMProject(\n",
    "        project_root=project_root, \n",
    "        dataset_paths=ned13_dirs,\n",
    "        bounds=bounds,\n",
    "        res=res,\n",
    "        reset=reset)\n",
    "    \n",
    "    # note that using get_operation('last') here assumes reset=True\n",
    "    proj.warp(proj.get_operation('last'), crs='EPSG:3857', res=None)\n",
    "    proj.hill_shade(proj.get_operation('last', 'warp'))\n",
    "    proj.color_relief(proj.get_operation('last', 'warp'), colormap=colormap)\n",
    "    proj.multiply_rgb([proj.get_operation('last', 'hill_shade'), proj.get_operation('last', 'color_relief')])\n",
    "    proj.save_props()"
   ]
  },
  {
   "cell_type": "code",
   "execution_count": null,
   "metadata": {},
   "outputs": [],
   "source": [
    "managers.utils.shell('gdalinfo %s' % managers.datasets.NED13Tile(ned13_dirs[0], exists=True).bandpath())"
   ]
  },
  {
   "cell_type": "code",
   "execution_count": null,
   "metadata": {},
   "outputs": [],
   "source": [
    "# merge and crop all raw NED13 tiles\n",
    "project_root='/home/keith/raster-projects/ned13-all/'\n",
    "workflow(project_root, bounds=None, res=5e-3, reset=True, colormap=cmap_orig)"
   ]
  },
  {
   "cell_type": "code",
   "execution_count": null,
   "metadata": {},
   "outputs": [],
   "source": [
    "# SF\n",
    "project_root = '/home/keith/raster-projects/ned13-sf/'\n",
    "workflow(project_root, cmap_for_sf, bounds=bounds['sf'], res=None, reset=True)"
   ]
  },
  {
   "cell_type": "code",
   "execution_count": null,
   "metadata": {},
   "outputs": [],
   "source": [
    "# moab\n",
    "project_root = '/home/keith/raster-projects/ned13-moab-paired-cmap/'\n",
    "workflow(project_root, cmap_for_moab, bounds=bounds['moab'], res=0.0009, reset=True)"
   ]
  },
  {
   "cell_type": "code",
   "execution_count": null,
   "metadata": {},
   "outputs": [],
   "source": [
    "# moab wide\n",
    "project_root = '/home/keith/raster-projects/ned13-moab/'\n",
    "workflow(project_root, cmap_for_moab, bounds=bounds['moab-wide'], res=0.0009, reset=True)"
   ]
  },
  {
   "cell_type": "code",
   "execution_count": null,
   "metadata": {},
   "outputs": [],
   "source": [
    "# markleeville\n",
    "project_root = '/home/keith/raster-projects/ned13-markleeville-low-res/'\n",
    "workflow(project_root, cmap_markleeville, bounds=bounds['markleeville'], res=.0009, reset=True)"
   ]
  },
  {
   "cell_type": "markdown",
   "metadata": {},
   "source": [
    "### Use a different colormap for an existing project"
   ]
  },
  {
   "cell_type": "code",
   "execution_count": null,
   "metadata": {},
   "outputs": [],
   "source": [
    "proj = managers.DEMProject('/home/keith/raster-projects/ned13-adf-santa-cruz/')"
   ]
  },
  {
   "cell_type": "code",
   "execution_count": null,
   "metadata": {},
   "outputs": [],
   "source": [
    "proj.save_props()"
   ]
  },
  {
   "cell_type": "code",
   "execution_count": null,
   "metadata": {},
   "outputs": [],
   "source": [
    "# proj.color_relief(proj.get_operation('last', 'warp'), colormap=cmap_markleeville_banded)\n",
    "proj.multiply_rgb([\n",
    "    proj.get_operation('last', 'hill_shade'), \n",
    "    proj.get_operation('last', 'color_relief')])"
   ]
  },
  {
   "cell_type": "markdown",
   "metadata": {},
   "source": [
    "### Rasterizing OSM roads to overlay (manually) on the final image\n",
    "\n",
    "First, use pgsql2shp to dump the roads in the ROI to a shapefile."
   ]
  },
  {
   "cell_type": "code",
   "execution_count": null,
   "metadata": {},
   "outputs": [],
   "source": [
    "# for santa cruz\n",
    "cmd = '''\n",
    "pgsql2shp -f \"/home/keith/raster-projects/ned13-adf-santa-cruz/roads.shp\" \n",
    "-h localhost -u postgres osm_roads \n",
    "\"select * from roads\n",
    " where ST_Intersects(ST_MakeEnvelope(-122.55, 36.929, -121.75, 37.65, 4326), geom)\n",
    " and code < 5120\"\n",
    "'''\n",
    "cmd = cmd.replace('\\n', '')"
   ]
  },
  {
   "cell_type": "code",
   "execution_count": null,
   "metadata": {},
   "outputs": [],
   "source": [
    "# for markleeville\n",
    "cmd = '''\n",
    "pgsql2shp -f \"/home/keith/raster-projects/ned13-markleeville/roads.shp\" \n",
    "-h localhost -u postgres osm_roads \n",
    "\"select * from roads\n",
    " where ST_Intersects(ST_MakeEnvelope(-120.194, 38.269, -119.361, 39.0, 4326), geom)\n",
    " and code < 5120\"\n",
    "'''\n",
    "cmd = cmd.replace('\\n', '')"
   ]
  },
  {
   "cell_type": "code",
   "execution_count": null,
   "metadata": {},
   "outputs": [],
   "source": [
    "managers.utils.shell(cmd.replace('\\n', ''))"
   ]
  },
  {
   "cell_type": "markdown",
   "metadata": {},
   "source": [
    "Then, use rio CLI to rasterize and warp the shapefile. In the project directory, first convert from shapefile to geoJSON:\n",
    "\n",
    "```fio dump roads.shp > roads.json```\n",
    "\n",
    "Then rasterize the geoJSON and reproject:\n",
    "\n",
    "```rio rasterize roads.json --default-value 255 --fill 0 --overwrite --res .00025 test00025.tif```\n",
    "\n",
    "```rio warp test00025.tif test00025w.tif --like ned13-markleeville_multiply_20190601-104127.TIF ```\n",
    "\n",
    "The resolution of .00025 is deliberately a bit greater than the native NED13 resolution, in order to make the roads more visible (if pixelated). \n"
   ]
  },
  {
   "cell_type": "markdown",
   "metadata": {},
   "source": [
    "### Debugging"
   ]
  },
  {
   "cell_type": "code",
   "execution_count": null,
   "metadata": {},
   "outputs": [],
   "source": [
    "proj = managers.DEMProject(project_root='/home/keith/raster-projects/ned13-downsampled-norcal/')\n",
    "with rasterio.open(proj.get_operation('last', 'hillshade').destination.path) as src:\n",
    "    im_ds = src.read()"
   ]
  },
  {
   "cell_type": "code",
   "execution_count": null,
   "metadata": {},
   "outputs": [],
   "source": [
    "proj = managers.DEMProject(project_root='/home/keith/raster-projects/ned13-berkeley/', reset=False)"
   ]
  },
  {
   "cell_type": "code",
   "execution_count": null,
   "metadata": {},
   "outputs": [],
   "source": [
    "proj.texture_shade(proj.get_operation('last', 'warp'))"
   ]
  },
  {
   "cell_type": "code",
   "execution_count": null,
   "metadata": {},
   "outputs": [],
   "source": [
    "proj.multiply([proj.get_operation('first', 'multiply'), proj.get_operation('last', 'texture_shade')], weight=.5)"
   ]
  },
  {
   "cell_type": "code",
   "execution_count": null,
   "metadata": {},
   "outputs": [],
   "source": [
    "proj._serialize()"
   ]
  },
  {
   "cell_type": "code",
   "execution_count": null,
   "metadata": {},
   "outputs": [],
   "source": []
  }
 ],
 "metadata": {
  "kernelspec": {
   "display_name": "gdalenv2",
   "language": "python",
   "name": "gdalenv2"
  },
  "language_info": {
   "codemirror_mode": {
    "name": "ipython",
    "version": 3
   },
   "file_extension": ".py",
   "mimetype": "text/x-python",
   "name": "python",
   "nbconvert_exporter": "python",
   "pygments_lexer": "ipython3",
   "version": "3.6.7"
  }
 },
 "nbformat": 4,
 "nbformat_minor": 2
}
