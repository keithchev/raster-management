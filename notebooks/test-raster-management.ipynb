{
 "cells": [
  {
   "cell_type": "code",
   "execution_count": null,
   "metadata": {},
   "outputs": [],
   "source": [
    "import os\n",
    "import sys\n",
    "import json\n",
    "import glob\n",
    "import shutil\n",
    "import deepdiff\n",
    "import datetime\n",
    "import rasterio\n",
    "import numpy as np\n",
    "\n",
    "sys.path.insert(0, '../')\n",
    "from managers import managers\n",
    "\n",
    "%load_ext autoreload\n",
    "%autoreload 2"
   ]
  },
  {
   "cell_type": "markdown",
   "metadata": {},
   "source": [
    "### Test DEM"
   ]
  },
  {
   "cell_type": "code",
   "execution_count": null,
   "metadata": {},
   "outputs": [],
   "source": [
    "# DEM test\n",
    "proj = managers.DEMProject(\n",
    "    project_root='../projects/test-dem', \n",
    "    dataset_paths='../test/datasets/dem/n38w120/n38w120_100m.tif',\n",
    "    reset=True)\n",
    "\n",
    "proj.hillshade(proj.operations[0].destination)"
   ]
  },
  {
   "cell_type": "code",
   "execution_count": null,
   "metadata": {},
   "outputs": [],
   "source": [
    "proj.operations"
   ]
  },
  {
   "cell_type": "code",
   "execution_count": null,
   "metadata": {},
   "outputs": [],
   "source": [
    "proj.save_props()"
   ]
  },
  {
   "cell_type": "code",
   "execution_count": null,
   "metadata": {},
   "outputs": [],
   "source": [
    "# DEM test\n",
    "proj = managers.DEMProject(\n",
    "    project_root='../projects/test-dem', \n",
    "    dataset_paths='../test/datasets/dem/n38w120/n38w120_100m.tif',\n",
    "    reset=False)"
   ]
  },
  {
   "cell_type": "code",
   "execution_count": null,
   "metadata": {},
   "outputs": [],
   "source": [
    "proj.operations"
   ]
  },
  {
   "cell_type": "markdown",
   "metadata": {},
   "source": [
    "### Test Landsat"
   ]
  },
  {
   "cell_type": "code",
   "execution_count": null,
   "metadata": {},
   "outputs": [],
   "source": [
    "# test 'raw' landsat scenes\n",
    "test_scenes = [\n",
    "    '../test/datasets/landsat/LC08_L1TP_041034_20180916_20180928_01_T1',\n",
    "    '../test/datasets/landsat/LC08_L1TP_042034_20180907_20180912_01_T1',]"
   ]
  },
  {
   "cell_type": "code",
   "execution_count": null,
   "metadata": {},
   "outputs": [],
   "source": [
    "# real raw landsat scenes\n",
    "full_scenes = [\n",
    "    '/home/keith/landsat-data//LC08_L1TP_041034_20180916_20180928_01_T1',\n",
    "    '/home/keith/landsat-data//LC08_L1TP_042034_20180907_20180912_01_T1',]"
   ]
  },
  {
   "cell_type": "code",
   "execution_count": null,
   "metadata": {},
   "outputs": [],
   "source": [
    "# bounds for central Sierra \n",
    "latlon_bounds = [-119.8, 37.2, -117.8, 38.2]"
   ]
  },
  {
   "cell_type": "code",
   "execution_count": null,
   "metadata": {},
   "outputs": [],
   "source": [
    "# check that we can reproduce these transformed bounds\n",
    "landsat_crs_bounds = [251494.21, 4120732.28, 429952.78, 4228308.24]\n",
    "\n",
    "tif = '../test/datasets/landsat/LC08_L1TP_041034_20180916_20180928_01_T1/LC08_L1TP_041034_20180916_20180928_01_T1_B1.TIF'\n",
    "bounds = managers.utils.transform(latlon_bounds, tif)\n",
    "\n",
    "assert(bounds==landsat_crs_bounds)"
   ]
  },
  {
   "cell_type": "code",
   "execution_count": null,
   "metadata": {},
   "outputs": [],
   "source": [
    "# test landsatProject *with* resetting\n",
    "shutil.rmtree('../projects/test-landsat')\n",
    "\n",
    "proj = managers.LandsatProject(\n",
    "    project_root='../projects/test-landsat',\n",
    "    dataset_paths=test_scenes,\n",
    "    res=400,\n",
    "    bounds=bounds,\n",
    "    reset=True)"
   ]
  },
  {
   "cell_type": "code",
   "execution_count": null,
   "metadata": {},
   "outputs": [],
   "source": [
    "proj.stack(proj.operations[0].destination, bands=[7, 5, 2])"
   ]
  },
  {
   "cell_type": "code",
   "execution_count": null,
   "metadata": {},
   "outputs": [],
   "source": [
    "proj.autogain(proj.operations[-1].destination, percentile=99)"
   ]
  },
  {
   "cell_type": "code",
   "execution_count": null,
   "metadata": {},
   "outputs": [],
   "source": [
    "# load without resetting\n",
    "proj = managers.LandsatProject(\n",
    "    project_root='../projects/test-landsat',\n",
    "    reset=False)"
   ]
  },
  {
   "cell_type": "code",
   "execution_count": null,
   "metadata": {},
   "outputs": [],
   "source": [
    "proj.operations"
   ]
  },
  {
   "cell_type": "code",
   "execution_count": null,
   "metadata": {},
   "outputs": [],
   "source": [
    "proj._serialize()"
   ]
  },
  {
   "cell_type": "code",
   "execution_count": null,
   "metadata": {},
   "outputs": [],
   "source": [
    "proj.save_props()"
   ]
  },
  {
   "cell_type": "code",
   "execution_count": null,
   "metadata": {},
   "outputs": [],
   "source": [
    "# load real raw datasets\n",
    "proj = managers.LandsatProject(\n",
    "    project_root='/home/keith/landsat-data/projects/mono-lake/',\n",
    "    dataset_paths=full_scenes,\n",
    "    bounds=bounds,\n",
    "    reset=False)"
   ]
  },
  {
   "cell_type": "code",
   "execution_count": null,
   "metadata": {},
   "outputs": [],
   "source": []
  }
 ],
 "metadata": {
  "kernelspec": {
   "display_name": "gdalenv",
   "language": "python",
   "name": "gdalenv"
  },
  "language_info": {
   "codemirror_mode": {
    "name": "ipython",
    "version": 3
   },
   "file_extension": ".py",
   "mimetype": "text/x-python",
   "name": "python",
   "nbconvert_exporter": "python",
   "pygments_lexer": "ipython3",
   "version": "3.6.6"
  }
 },
 "nbformat": 4,
 "nbformat_minor": 2
}
